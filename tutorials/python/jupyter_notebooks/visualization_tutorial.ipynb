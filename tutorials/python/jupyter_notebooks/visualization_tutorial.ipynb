{
 "cells": [
  {
   "cell_type": "markdown",
   "metadata": {},
   "source": [
    "![puma logo](https://github.com/nasa/puma/raw/main/doc/source/puma_logo.png)"
   ]
  },
  {
   "cell_type": "markdown",
   "source": [
    "Run this jupyter tutorial in [![Binder](https://mybinder.org/badge_logo.svg)](https://mybinder.org/v2/gl/jcfergus%2Fpuma-dev/main)"
   ],
   "metadata": {
    "collapsed": false
   }
  },
  {
   "cell_type": "markdown",
   "metadata": {},
   "source": [
    "# 3D Visualization"
   ]
  },
  {
   "cell_type": "markdown",
   "metadata": {},
   "source": [
    "The objective of this notebook is to familiarize new users with the main datastructures that stand at the basis of the\n",
    "PuMA project, and outline the functions to compute material properties (please refer to these papers\n",
    "([1](https://www.sciencedirect.com/science/article/pii/S2352711018300281),\n",
    "[2](https://www.sciencedirect.com/science/article/pii/S235271102100090X)) for more details on the software)."
   ]
  },
  {
   "cell_type": "markdown",
   "metadata": {},
   "source": [
    "## Installation setup and imports"
   ]
  },
  {
   "cell_type": "markdown",
   "metadata": {},
   "source": [
    "The first code block will execute the necessary installation and package import. \n",
    "\n",
    "If you are running this jupyter notebook locally on your machine, assuming you have already installed the software,\n",
    "then the installation step will be skipped."
   ]
  },
  {
   "cell_type": "code",
   "execution_count": null,
   "metadata": {},
   "outputs": [],
   "source": [
    "# for interactive slicer\n",
    "%matplotlib widget\n",
    "import pumapy as puma\n",
    "import pyvista as pv\n",
    "import os\n",
    "\n",
    "if 'BINDER_SERVICE_HOST' in os.environ:  # ONLINE JUPYTER ON BINDER\n",
    "    from pyvirtualdisplay import Display\n",
    "    display = Display(visible=0, size=(600, 400))\n",
    "    display.start()  # necessary for pyvista interactive plots\n",
    "    notebook = True\n",
    "    \n",
    "else:  # LOCAL JUPYTER NOTEBOOK\n",
    "    notebook = False  # when running locally, actually open pyvista window"
   ]
  },
  {
   "cell_type": "markdown",
   "metadata": {},
   "source": [
    "## Tutorial\n",
    "\n",
    "In this tutorial we demonstrate the use of the 3D Visualization capabilities in pumapy. The 3D visualization is based\n",
    "on a coupling with Pyvista. Visualization can be performed on either raw tomography samples (each material phase is\n",
    "composed of a range of grayscale values) or segmented images (each material phase is a single grayscale value). Pumapy\n",
    "can currently produce volume, contour and orientation renderings. Examples of each visualization are shown below."
   ]
  },
  {
   "cell_type": "markdown",
   "metadata": {},
   "source": [
    "Next we must either import or generate a material to visualize. Computational domains are stored in the workspace class.\n",
    "Below we show an example of both importing and computationally generating a material:"
   ]
  },
  {
   "cell_type": "code",
   "execution_count": null,
   "metadata": {},
   "outputs": [],
   "source": [
    "# Generating a workspace of randomly placed, intersecting spheres: with the inputs:\n",
    "#  - size of domain in voxels: (200,200,200)\n",
    "#  - diameter of each sphere in voxels: 20\n",
    "#  - porosity of generated material: 0.7\n",
    "ws_generated = puma.generate_random_spheres((200,200,200), 20, 0.7, segmented=False)\n",
    "\n",
    "# The voxel length (in meters) of the workspace defaults to 1 micron (1e-6 m).\n",
    "# To change the voxel length, modify the parameter directly: \n",
    "ws_generated.voxel_length = 1.3e-6\n",
    "\n",
    "# Next we will import an example tomography file of size 200^3 and voxel length 1.3e-6\n",
    "ws_imported = puma.import_3Dtiff(puma.path_to_example_file(\"200_fiberform.tif\"), 1.3e-6)"
   ]
  },
  {
   "cell_type": "markdown",
   "metadata": {},
   "source": [
    "The workspaces above have not been segmented yet. In the case of generated workspace, the generated material has been\n",
    "stored for a grayscale [128,255] and the void phase is stored between [0,127]. The appropriate grayscale cutoff for the\n",
    "imported tomography sample is 90, such that [90,255] is material and [0,89] is the air/void. These values will be different\n",
    "for each tomography image.\n",
    "\n",
    "First, we will generate both volume and contour renderings of the two materials without segmentation. Since we are\n",
    "running the rendering from a jupyter notebook, we need to specify it."
   ]
  },
  {
   "cell_type": "code",
   "execution_count": null,
   "metadata": {},
   "outputs": [],
   "source": [
    "# Generating contour (i.e. isosurface) rendering of the computationally generated material\n",
    "# The grayscale range of the material to be rendered is specified as (128,255) and is inclusive\n",
    "puma.render_contour(ws_generated, cutoff=(128, 255), solid_color=(255,255,255), notebook=notebook)"
   ]
  },
  {
   "cell_type": "code",
   "execution_count": null,
   "metadata": {},
   "outputs": [],
   "source": [
    "# Generating volume (i.e. voxel) rendering of the computationally generated material\n",
    "puma.render_volume(ws_generated, cutoff=(128, 255), notebook=notebook)"
   ]
  },
  {
   "cell_type": "code",
   "execution_count": null,
   "metadata": {},
   "outputs": [],
   "source": [
    "# by choosing the \"edges\" style, we can visualize the triangulated surface\n",
    "puma.render_contour(ws_imported, cutoff=(90, 255), solid_color=(255,255,255), notebook=notebook, style=\"edges\")"
   ]
  },
  {
   "cell_type": "code",
   "execution_count": null,
   "metadata": {},
   "outputs": [],
   "source": [
    "puma.render_volume(ws_imported, cutoff=(90, 255), notebook=notebook)"
   ]
  },
  {
   "cell_type": "markdown",
   "metadata": {},
   "source": [
    "Next, we will segment the workspaces, such that all void voxels contain an ID of 0 and all solid voxels contain an ID of 1.\n",
    "This could be expanded for multi-phase domains."
   ]
  },
  {
   "cell_type": "code",
   "execution_count": null,
   "metadata": {},
   "outputs": [],
   "source": [
    "# Setting all grayscale values between 0 and 127, inclusive, to 0\n",
    "ws_generated.set_material_id((0, 127), 0)\n",
    "# Setting all grayscale values between 128 and 255, inclusive, to 1\n",
    "ws_generated.set_material_id((128, 255),1)\n",
    "# The above could also be achieved as: ws_generated.binarize_range((128, 255))\n",
    "\n",
    "# Now on the tomography, we can binarize it using a single threshold as:\n",
    "ws_imported.binarize(89)  # everything above 89 will be set 1, below to 0"
   ]
  },
  {
   "cell_type": "markdown",
   "metadata": {},
   "source": [
    "Now we will generate contour and volume renderings of the segmented files. Note that the grayscale values have changed."
   ]
  },
  {
   "cell_type": "code",
   "execution_count": null,
   "metadata": {},
   "outputs": [],
   "source": [
    "p = pv.Plotter(shape=(1, 2), notebook=notebook)\n",
    "p.subplot(0, 0)\n",
    "p.add_text(\"Surface\")\n",
    "puma.render_contour(ws_generated, cutoff=(1, 1), notebook=notebook, add_to_plot=p, plot_directly=False)\n",
    "p.subplot(0, 1)\n",
    "p.add_text(\"Voxels\")\n",
    "puma.render_volume(ws_generated, cutoff=(1, 1), notebook=notebook, add_to_plot=p, plot_directly=False)\n",
    "p.show()"
   ]
  },
  {
   "cell_type": "code",
   "execution_count": null,
   "metadata": {},
   "outputs": [],
   "source": [
    "p = pv.Plotter(shape=(1, 2), notebook=notebook)\n",
    "p.subplot(0, 0)\n",
    "p.add_text(\"Surface\")\n",
    "puma.render_contour(ws_imported, cutoff=(1, 1), notebook=notebook, add_to_plot=p, plot_directly=False)\n",
    "p.subplot(0, 1)\n",
    "p.add_text(\"Voxels\")\n",
    "puma.render_volume(ws_imported, cutoff=(1, 1), notebook=notebook, add_to_plot=p, plot_directly=False)\n",
    "p.show()"
   ]
  },
  {
   "cell_type": "markdown",
   "metadata": {},
   "source": [
    "Note that the contour renders for the segmented images are significantly less smooth than for the non-segmented images.\n",
    "This is because the triangulation algorithms have significantly less degrees of freedom when assigning triangle angles\n",
    "for segmented images, resulting in a rougher surface than for non-segmented images."
   ]
  }
 ],
 "metadata": {
  "kernelspec": {
   "display_name": "Python 3 (ipykernel)",
   "language": "python",
   "name": "python3"
  },
  "language_info": {
   "codemirror_mode": {
    "name": "ipython",
    "version": 3
   },
   "file_extension": ".py",
   "mimetype": "text/x-python",
   "name": "python",
   "nbconvert_exporter": "python",
   "pygments_lexer": "ipython3",
   "version": "3.10.8"
  },
  "toc-autonumbering": true
 },
 "nbformat": 4,
 "nbformat_minor": 4
}
