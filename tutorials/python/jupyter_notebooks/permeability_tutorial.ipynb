{
 "cells": [
  {
   "cell_type": "markdown",
   "metadata": {},
   "source": [
    "![puma logo](https://github.com/nasa/puma/raw/main/doc/source/puma_logo.png)"
   ]
  },
  {
   "cell_type": "markdown",
   "source": [
    "Run this jupyter tutorial in [![Binder](https://mybinder.org/badge_logo.svg)](https://mybinder.org/v2/gl/jcfergus%2Fpuma-dev/main)"
   ],
   "metadata": {
    "collapsed": false
   }
  },
  {
   "cell_type": "markdown",
   "metadata": {},
   "source": [
    "# Permeability"
   ]
  },
  {
   "cell_type": "markdown",
   "metadata": {},
   "source": [
    "The objective of this notebook is to familiarize new users with the main datastructures that stand at the basis of the\n",
    "PuMA project, and outline the functions to compute material properties (please refer to these papers\n",
    "([1](https://www.sciencedirect.com/science/article/pii/S2352711018300281),\n",
    "[2](https://www.sciencedirect.com/science/article/pii/S235271102100090X)) for more details on the software)."
   ]
  },
  {
   "cell_type": "markdown",
   "metadata": {},
   "source": [
    "## Installation setup and imports"
   ]
  },
  {
   "cell_type": "markdown",
   "metadata": {},
   "source": [
    "The first code block will execute the necessary installation and package import.\n",
    "\n",
    "If you are running this jupyter notebook locally on your machine, assuming you have already installed the software,\n",
    "then the installation step will be skipped"
   ]
  },
  {
   "cell_type": "code",
   "execution_count": null,
   "metadata": {
    "collapsed": false,
    "jupyter": {
     "outputs_hidden": false
    }
   },
   "outputs": [],
   "source": [
    "# for interactive slicer\n",
    "%matplotlib widget\n",
    "import pumapy as puma\n",
    "import pyvista as pv\n",
    "import numpy as np\n",
    "import os\n",
    "\n",
    "if 'BINDER_SERVICE_HOST' in os.environ:  # ONLINE JUPYTER ON BINDER\n",
    "    from pyvirtualdisplay import Display\n",
    "    display = Display(visible=0, size=(600, 400))\n",
    "    display.start()  # necessary for pyvista interactive plots\n",
    "    notebook = True\n",
    "    \n",
    "else:  # LOCAL JUPYTER NOTEBOOK\n",
    "    notebook = False  # when running locally, actually open pyvista window"
   ]
  },
  {
   "cell_type": "markdown",
   "metadata": {},
   "source": [
    "## Tutorial\n",
    "\n",
    "In this tutorial we introduce pumapy's permeability module. The numerical method behind the permeability homogenization\n",
    "function relies on a Finite Element method, which approximates both the velocity and pressure fields with first-order\n",
    "elements (i.e. Q1-Q1) and imposing a unit body force in each Cartesian direction. More details about the specifics of\n",
    "this method can be found in [this publication](https://www.mdpi.com/2311-5521/5/1/16), which was the starting point of\n",
    "the PuMA implementation.\n",
    "\n",
    "In this section of the tutorials, we will run two different cases: the first one simulates the flow through a square\n",
    "array of cylinders, for which the permeability can be computed analytically; the second one solves the Stokes equation\n",
    "for the flow around artificial fiber domains, whose fiber orientation is varied.\n",
    "\n",
    "<font size=\"3\">**Important notes on the use of the compute_permeability function:**</font>\n",
    "\n",
    "\n",
    "The permeability is one of the most advanced material property computations in PuMA and it requires significant\n",
    "resources in terms of memory and runtime. For this reason, several solver types and options are available to the\n",
    "user in order to tailor the use of this function to the specific requirement. Three different solver types can be\n",
    "used: a direct sparse solver (solver_type='direct'), which requires the assembly of a big sparse A matrix; and two\n",
    "iterative solver options (MINimum RESidual, solver_type='minres', and the Conjugate Gradient, solver_type='cg').\n",
    "The direct solver is more accurate, since it finds a correct solution to the inversion of the sparse A matrix, but\n",
    "it requires the most memory, so it can only be run on small domains (e.g. up to $100^3$ voxels). The benefit of this\n",
    "solver is the non-approximate solution it gives, as well as the fact that the solver does not need to be called three\n",
    "times for the three directions, since it finds the correct $A^{-1}$ that can be multiplied with the three $b$ forcing\n",
    "vectors to find the velocity solution directly. On the other hand, the iterative solvers are what needs to be used\n",
    "for production runs on larger domains. For the iterative solvers, a crucial flag is the matrix_free parameter,\n",
    "which tells the solver whether to assemble a large A sparse matrix (matrix_free=False) or to create a LinearOperator\n",
    "instead, which computes the matrix-vector operation directly. The former is faster, but it requires significantly more\n",
    "memory, whereas the second one is much lighter in the memory requirement, but it needs to compute more operations at\n",
    "each iteration. Finally, a Jacobi preconditioner is also available only for the cg solver, which requires slightly\n",
    "more memory, but it significantly reduces the number of iterations. The preconditioner is not available to the minres\n",
    "solver because it leads to asymmetries in the A sparse matrix. For very large runs where only the effective permeability\n",
    "coefficient is needed, it is recommended to use the following set of options to minimize the memory: solver_type='minres',\n",
    "matrix_free=True, precondition=False, output_fields=False."
   ]
  },
  {
   "cell_type": "markdown",
   "metadata": {},
   "source": [
    "### Transverse flow through a square array of cylinders\n",
    "\n",
    "The analytical solution for this case can be found in section 11 of\n",
    "[this paper](https://www.sciencedirect.com/science/article/abs/pii/030193228490079X) (equation 29).\n",
    "It describes the homogenized permeability of a square domain containing cylinders. In our case, we will consider a\n",
    "domain with equal unit sides, discretized with 100 voxels in each direction, and with cylinders with 0.1 radius:"
   ]
  },
  {
   "cell_type": "code",
   "execution_count": null,
   "metadata": {
    "collapsed": false,
    "jupyter": {
     "outputs_hidden": false
    }
   },
   "outputs": [],
   "source": [
    "r = 0.1  # cylinder radius\n",
    "vf = 2. * np.pi * (r ** 2.)  # solid volume fraction"
   ]
  },
  {
   "cell_type": "markdown",
   "metadata": {},
   "source": [
    "The analytical solution can now be computed as: "
   ]
  },
  {
   "cell_type": "code",
   "execution_count": null,
   "metadata": {
    "collapsed": false,
    "jupyter": {
     "outputs_hidden": false
    }
   },
   "outputs": [],
   "source": [
    "keff_analytical = ((r ** 2) / (8 * vf)) * (-np.log(vf) - 1.47633597 + 2 * vf - 1.77428264 * vf ** 2 + 4.07770444 * vf ** 3 - 4.84227402 * vf ** 4)\n",
    "print(f\"Analytical diagonal permeability: {keff_analytical}\")"
   ]
  },
  {
   "cell_type": "markdown",
   "metadata": {},
   "source": [
    "We can create the square array of cylinders by running the following cell:"
   ]
  },
  {
   "cell_type": "code",
   "execution_count": null,
   "metadata": {
    "collapsed": false,
    "jupyter": {
     "outputs_hidden": false
    }
   },
   "outputs": [],
   "source": [
    "ws = puma.generate_cylinder_square_array(100, 1. - vf)  # 100x100x1 domain with porosity = 1 - vf\n",
    "ws.voxel_length = 1./ws.matrix.shape[0]  # i.e. side length = 1\n",
    "print(f\"Domain solid VF: {puma.compute_volume_fraction(ws, (1, 1))}\")\n",
    "\n",
    "puma.render_volume(ws, (1, 1), solid_color=(255,255,255), style='edges', notebook=notebook)"
   ]
  },
  {
   "cell_type": "markdown",
   "metadata": {},
   "source": [
    "Finally, we can compute the exact numerical permeability in the three directions using a sparse direct solver by running:"
   ]
  },
  {
   "cell_type": "code",
   "execution_count": null,
   "metadata": {
    "collapsed": false,
    "jupyter": {
     "outputs_hidden": false
    }
   },
   "outputs": [],
   "source": [
    "keff, (u_x, u_y, u_z) = puma.compute_permeability(ws, (1, 1), solver_type='direct')"
   ]
  },
  {
   "cell_type": "markdown",
   "metadata": {},
   "source": [
    "We can also visualize the output velocity fields as:"
   ]
  },
  {
   "cell_type": "code",
   "execution_count": null,
   "metadata": {
    "collapsed": false,
    "jupyter": {
     "outputs_hidden": false
    }
   },
   "outputs": [],
   "source": [
    "p = pv.Plotter(shape=(1, 2))\n",
    "ws.voxel_length = 1  # the voxel_length is converted to 1 for plotting the workspace together with the velocity\n",
    "p.subplot(0, 0)\n",
    "p.add_text(\"Body force in x, velocity\")\n",
    "puma.render_orientation(u_x, scale_factor=1e2, add_to_plot=p, plot_directly=False, notebook=notebook)\n",
    "puma.render_volume(ws, (1, 1), solid_color=(255,255,255), style='surface', add_to_plot=p, plot_directly=False, notebook=notebook)\n",
    "p.subplot(0, 1)\n",
    "p.add_text(\"Body force in y, velocity\")\n",
    "puma.render_orientation(u_y, scale_factor=1e2, add_to_plot=p, plot_directly=False, notebook=notebook)\n",
    "puma.render_volume(ws, (1, 1), solid_color=(255,255,255), style='surface', add_to_plot=p, plot_directly=False, notebook=notebook)\n",
    "p.show()"
   ]
  },
  {
   "cell_type": "markdown",
   "metadata": {},
   "source": [
    "### Flow through artificial fibers with variable orientation\n",
    "\n",
    "In this section, we are going to showcase how to compute the permeability of a couple of artificial fiber samples.\n",
    "We set the orientation of the first one to be completely random, whereas we align the fibers of the second one with the XZ plane.\n",
    "\n",
    "This is how we can generate them:"
   ]
  },
  {
   "cell_type": "code",
   "execution_count": null,
   "metadata": {
    "collapsed": false,
    "jupyter": {
     "outputs_hidden": false
    }
   },
   "outputs": [],
   "source": [
    "ws1 = puma.generate_random_fibers(shape=(50, 50, 50), radius=2, porosity=0.7, phi=90, theta=90, length=200, max_iter=6)\n",
    "ws2 = puma.generate_random_fibers(shape=(50, 50, 50), radius=2, porosity=0.7, phi=0, theta=90, length=200, max_iter=6)"
   ]
  },
  {
   "cell_type": "code",
   "execution_count": null,
   "metadata": {
    "collapsed": false,
    "jupyter": {
     "outputs_hidden": false
    }
   },
   "outputs": [],
   "source": [
    "p = pv.Plotter(shape=(1, 2))\n",
    "p.subplot(0, 0)\n",
    "p.add_text(\"Random orientation\")\n",
    "puma.render_volume(ws1, (1, ws1.max()), solid_color=None, cmap='jet', style='surface', add_to_plot=p, plot_directly=False, notebook=notebook)\n",
    "p.subplot(0, 1)\n",
    "p.add_text(\"Preferentially aligned with XZ plane\")\n",
    "puma.render_volume(ws2, (1, ws2.max()), solid_color=None, cmap='jet', style='surface', add_to_plot=p, plot_directly=False, notebook=notebook)\n",
    "p.show()"
   ]
  },
  {
   "cell_type": "markdown",
   "metadata": {},
   "source": [
    "Now, we compute their permeabilities using the minres iterative solver due to the significantly larger sparse system to\n",
    "solve (refer to the first permeability section or to the documentation for more specs on the solver types and options):"
   ]
  },
  {
   "cell_type": "code",
   "execution_count": null,
   "metadata": {
    "collapsed": false,
    "jupyter": {
     "outputs_hidden": false
    }
   },
   "outputs": [],
   "source": [
    "keff1, (u_x1, u_y1, u_z1) = puma.compute_permeability(ws1, (1, ws1.max()), tol=1e-8, maxiter=10000, solver_type='minres', matrix_free=False)\n",
    "keff2, (u_x2, u_y2, u_z2) = puma.compute_permeability(ws2, (1, ws2.max()), tol=1e-8, maxiter=10000, solver_type='minres', matrix_free=False)"
   ]
  },
  {
   "cell_type": "markdown",
   "metadata": {},
   "source": [
    "As you can see, the diagonal permeabilities in the first case are similar to each other, whereas the permeability in z\n",
    "direction for the second sample is significatly lower than in the other two directions, which is a direct cause of the\n",
    "fiber orientation.\n",
    "\n",
    "We can now visualize their output velocity fields (normalized by the voxel_length) in Z as:"
   ]
  },
  {
   "cell_type": "code",
   "execution_count": null,
   "metadata": {
    "collapsed": false,
    "jupyter": {
     "outputs_hidden": false
    }
   },
   "outputs": [],
   "source": [
    "# usually pyvista plots are interactive, but this multi-plot is too heavy\n",
    "pv.set_jupyter_backend('static')\n",
    "\n",
    "p = pv.Plotter(shape=(2, 3), off_screen=True)\n",
    "ws1.voxel_length = 1  # the voxel_length is converted to 1 for plotting the workspace together with the velocity\n",
    "ws2.voxel_length = 1\n",
    "p.subplot(0, 0)\n",
    "p.add_text(\"u_x for fibers with random orientation\")\n",
    "puma.render_orientation(u_x1, add_to_plot=p, scale_factor=1e12, plot_directly=False)\n",
    "puma.render_volume(ws1, cutoff=(1, ws1.max()), cmap='jet', add_to_plot=p, plot_directly=False, notebook=notebook)\n",
    "p.subplot(0, 1)\n",
    "p.add_text(\"u_y\")\n",
    "puma.render_orientation(u_y1, add_to_plot=p, scale_factor=1e12, plot_directly=False)\n",
    "puma.render_volume(ws1, cutoff=(1, ws1.max()), cmap='jet', add_to_plot=p, plot_directly=False, notebook=notebook)\n",
    "p.subplot(0, 2)\n",
    "p.add_text(\"u_z\")\n",
    "puma.render_orientation(u_z1, add_to_plot=p, scale_factor=1e12, plot_directly=False)\n",
    "puma.render_volume(ws1, cutoff=(1, ws1.max()), cmap='jet', add_to_plot=p, plot_directly=False, notebook=notebook)\n",
    "p.subplot(1, 0)\n",
    "p.add_text(\"u_x for fibers with preferential orientation on XZ plane\")\n",
    "puma.render_orientation(u_x2, add_to_plot=p, scale_factor=1e12, plot_directly=False)\n",
    "puma.render_volume(ws2, cutoff=(1, ws2.max()), cmap='jet', add_to_plot=p, plot_directly=False, notebook=notebook)\n",
    "p.subplot(1, 1)\n",
    "p.add_text(\"u_y\")\n",
    "puma.render_orientation(u_y2, add_to_plot=p, scale_factor=1e12, plot_directly=False)\n",
    "puma.render_volume(ws2, cutoff=(1, ws2.max()), cmap='jet', add_to_plot=p, plot_directly=False, notebook=notebook)\n",
    "p.subplot(1, 2)\n",
    "p.add_text(\"u_z\")\n",
    "puma.render_orientation(u_z2, add_to_plot=p, scale_factor=1e12, plot_directly=False)\n",
    "puma.render_volume(ws2, cutoff=(1, ws2.max()), cmap='jet', add_to_plot=p, plot_directly=False, notebook=notebook)\n",
    "p.show()\n",
    "\n",
    "pv.set_jupyter_backend('ipyvtklink')  # to set pyvista plots back to interactive"
   ]
  }
 ],
 "metadata": {
  "kernelspec": {
   "display_name": "Python 3 (ipykernel)",
   "language": "python",
   "name": "python3"
  },
  "language_info": {
   "codemirror_mode": {
    "name": "ipython",
    "version": 3
   },
   "file_extension": ".py",
   "mimetype": "text/x-python",
   "name": "python",
   "nbconvert_exporter": "python",
   "pygments_lexer": "ipython3",
   "version": "3.10.8"
  },
  "toc-autonumbering": true
 },
 "nbformat": 4,
 "nbformat_minor": 4
}
