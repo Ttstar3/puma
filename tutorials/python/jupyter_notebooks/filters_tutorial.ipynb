{
 "cells": [
  {
   "cell_type": "markdown",
   "metadata": {},
   "source": [
    "![puma logo](https://github.com/nasa/puma/raw/main/doc/source/puma_logo.png)"
   ]
  },
  {
   "cell_type": "markdown",
   "source": [
    "Run this jupyter tutorial in [![Binder](https://mybinder.org/badge_logo.svg)](https://mybinder.org/v2/gl/jcfergus%2Fpuma-dev/main)"
   ],
   "metadata": {
    "collapsed": false
   }
  },
  {
   "cell_type": "markdown",
   "metadata": {},
   "source": [
    "# Image Filters"
   ]
  },
  {
   "cell_type": "markdown",
   "metadata": {},
   "source": [
    "The objective of this notebook is to familiarize new users with the main datastructures that stand at the basis of the\n",
    "PuMA project, and outline the functions to compute material properties (please refer to these papers\n",
    "([1](https://www.sciencedirect.com/science/article/pii/S2352711018300281),\n",
    "[2](https://www.sciencedirect.com/science/article/pii/S235271102100090X)) for more details on the software)."
   ]
  },
  {
   "cell_type": "markdown",
   "metadata": {},
   "source": [
    "## Installation setup and imports"
   ]
  },
  {
   "cell_type": "markdown",
   "metadata": {},
   "source": [
    "The first code block will execute the necessary installation and package import.\n",
    "\n",
    "If you are running this jupyter notebook locally on your machine, assuming you have already installed the software,\n",
    "then the installation step will be skipped"
   ]
  },
  {
   "cell_type": "code",
   "execution_count": null,
   "metadata": {},
   "outputs": [],
   "source": [
    "# for interactive slicer\n",
    "%matplotlib widget\n",
    "import pumapy as puma\n",
    "import os\n",
    "\n",
    "if 'BINDER_SERVICE_HOST' in os.environ:  # ONLINE JUPYTER ON BINDER\n",
    "    from pyvirtualdisplay import Display\n",
    "    display = Display(visible=0, size=(600, 400))\n",
    "    display.start()  # necessary for pyvista interactive plots\n",
    "    notebook = True\n",
    "\n",
    "else:  # LOCAL JUPYTER NOTEBOOK\n",
    "    notebook = False  # when running locally, actually open pyvista window"
   ]
  },
  {
   "cell_type": "markdown",
   "metadata": {},
   "source": [
    "## Tutorial\n",
    "\n",
    "In this tutorial we show the use of the image filters implemented in pumapy. Let's start by importing an image:"
   ]
  },
  {
   "cell_type": "code",
   "execution_count": null,
   "metadata": {},
   "outputs": [],
   "source": [
    "ws = puma.import_3Dtiff(puma.path_to_example_file(\"100_fiberform.tif\"), 1.3e-6)"
   ]
  },
  {
   "cell_type": "markdown",
   "metadata": {},
   "source": [
    "In succession, we can now run run the different image filters and show their output:\n",
    "\n",
    "3D Median filter (edge preserving):"
   ]
  },
  {
   "cell_type": "code",
   "execution_count": null,
   "metadata": {},
   "outputs": [],
   "source": [
    "ws_median = ws.copy()\n",
    "\n",
    "# the size refers to the side of the cubical kernel to be applied\n",
    "puma.filter_median(ws_median, size=5)\n",
    "\n",
    "puma.compare_slices(ws, ws_median, 'z', index=1)"
   ]
  },
  {
   "cell_type": "markdown",
   "metadata": {},
   "source": [
    "3D Gaussian filter:"
   ]
  },
  {
   "cell_type": "code",
   "execution_count": null,
   "metadata": {},
   "outputs": [],
   "source": [
    "ws_gaussian = ws.copy()\n",
    "\n",
    "puma.filter_gaussian(ws_gaussian, sigma=2, apply_on_orientation=False)\n",
    "\n",
    "puma.compare_slices(ws, ws_gaussian, 'z', index=1)"
   ]
  },
  {
   "cell_type": "markdown",
   "metadata": {},
   "source": [
    "3D Exact euclidean distance transform:"
   ]
  },
  {
   "cell_type": "code",
   "execution_count": null,
   "metadata": {},
   "outputs": [],
   "source": [
    "ws_edt = ws.copy()\n",
    "\n",
    "puma.filter_edt(ws_edt, cutoff=(90, 255))\n",
    "\n",
    "puma.compare_slices(ws, ws_edt, 'z', index=1)"
   ]
  },
  {
   "cell_type": "markdown",
   "metadata": {},
   "source": [
    "3D Mean filter:"
   ]
  },
  {
   "cell_type": "code",
   "execution_count": null,
   "metadata": {},
   "outputs": [],
   "source": [
    "ws_mean = ws.copy()\n",
    "\n",
    "# the size refers to the side of the cubical kernel to be applied\n",
    "puma.filter_mean(ws_mean, size=10)\n",
    "\n",
    "puma.compare_slices(ws, ws_mean, 'z', index=1)"
   ]
  },
  {
   "cell_type": "markdown",
   "metadata": {},
   "source": [
    "3D morphological erosion filter:"
   ]
  },
  {
   "cell_type": "code",
   "execution_count": null,
   "metadata": {},
   "outputs": [],
   "source": [
    "ws_erode = ws.copy()\n",
    "\n",
    "# the size refers to the side of the spherical kernel to be applied\n",
    "puma.filter_erode(ws_erode, cutoff=(90, 255), size=3)\n",
    "\n",
    "ws_binary = ws.copy()\n",
    "ws_binary.binarize_range((90, 255))\n",
    "\n",
    "puma.compare_slices(ws_binary, ws_erode, 'z', index=1)"
   ]
  },
  {
   "cell_type": "markdown",
   "metadata": {},
   "source": [
    "3D morphological dilation filter:"
   ]
  },
  {
   "cell_type": "code",
   "execution_count": null,
   "metadata": {},
   "outputs": [],
   "source": [
    "ws_dilate = ws.copy()\n",
    "\n",
    "# the size refers to the side of the spherical kernel to be applied\n",
    "puma.filter_dilate(ws_dilate, cutoff=(90, 255), size=3)\n",
    "\n",
    "ws_binary = ws.copy()\n",
    "ws_binary.binarize_range((90, 255))\n",
    "\n",
    "puma.compare_slices(ws_binary, ws_dilate, 'z', index=1)"
   ]
  },
  {
   "cell_type": "markdown",
   "metadata": {},
   "source": [
    "3D morphological opening filter (i.e. dilation first and then erosion):"
   ]
  },
  {
   "cell_type": "code",
   "execution_count": null,
   "metadata": {},
   "outputs": [],
   "source": [
    "ws_opening = ws.copy()\n",
    "\n",
    "# the size refers to the side of the spherical kernel to be applied\n",
    "puma.filter_opening(ws_opening, cutoff=(90, 255), size=3)\n",
    "\n",
    "ws_binary = ws.copy()\n",
    "ws_binary.binarize_range((90, 255))\n",
    "\n",
    "puma.compare_slices(ws_binary, ws_opening, 'z', index=1)"
   ]
  },
  {
   "cell_type": "markdown",
   "metadata": {},
   "source": [
    "3D morphological closing filter (i.e. erosion first and then dilation)"
   ]
  },
  {
   "cell_type": "code",
   "execution_count": null,
   "metadata": {},
   "outputs": [],
   "source": [
    "ws_closing = ws.copy()\n",
    "\n",
    "# the size refers to the side of the spherical kernel to be applied\n",
    "puma.filter_closing(ws_closing, cutoff=(90, 255), size=3)\n",
    "\n",
    "ws_binary = ws.copy()\n",
    "ws_binary.binarize_range((90, 255))\n",
    "\n",
    "puma.compare_slices(ws_binary, ws_closing, 'z', index=1)"
   ]
  },
  {
   "cell_type": "code",
   "execution_count": null,
   "metadata": {},
   "outputs": [],
   "source": []
  },
  {
   "cell_type": "code",
   "execution_count": null,
   "metadata": {},
   "outputs": [],
   "source": []
  },
  {
   "cell_type": "code",
   "execution_count": null,
   "metadata": {},
   "outputs": [],
   "source": []
  }
 ],
 "metadata": {
  "kernelspec": {
   "display_name": "Python 3 (ipykernel)",
   "language": "python",
   "name": "python3"
  },
  "language_info": {
   "codemirror_mode": {
    "name": "ipython",
    "version": 3
   },
   "file_extension": ".py",
   "mimetype": "text/x-python",
   "name": "python",
   "nbconvert_exporter": "python",
   "pygments_lexer": "ipython3",
   "version": "3.10.8"
  },
  "toc-autonumbering": true
 },
 "nbformat": 4,
 "nbformat_minor": 4
}
