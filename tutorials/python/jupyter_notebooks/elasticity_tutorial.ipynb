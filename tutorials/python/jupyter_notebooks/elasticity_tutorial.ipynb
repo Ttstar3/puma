{
 "cells": [
  {
   "cell_type": "markdown",
   "metadata": {},
   "source": [
    "![puma logo](https://github.com/nasa/puma/raw/main/doc/source/puma_logo.png)"
   ]
  },
  {
   "cell_type": "markdown",
   "source": [
    "Run this jupyter tutorial in [![Binder](https://mybinder.org/badge_logo.svg)](https://mybinder.org/v2/gl/jcfergus%2Fpuma-dev/main)"
   ],
   "metadata": {
    "collapsed": false
   }
  },
  {
   "cell_type": "markdown",
   "metadata": {},
   "source": [
    "# Elasticity"
   ]
  },
  {
   "cell_type": "markdown",
   "metadata": {},
   "source": [
    "The objective of this notebook is to familiarize new users with the main datastructures that stand at the basis of the\n",
    "PuMA project, and outline the functions to compute material properties (please refer to these papers\n",
    "([1](https://www.sciencedirect.com/science/article/pii/S2352711018300281),\n",
    "[2](https://www.sciencedirect.com/science/article/pii/S235271102100090X)) for more details on the software)."
   ]
  },
  {
   "cell_type": "markdown",
   "metadata": {},
   "source": [
    "## Installation setup and imports"
   ]
  },
  {
   "cell_type": "markdown",
   "metadata": {},
   "source": [
    "The first code block will execute the necessary installation and package import.\n",
    "\n",
    "If you are running this jupyter notebook locally on your machine, assuming you have already installed the software,\n",
    "then the installation step will be skipped"
   ]
  },
  {
   "cell_type": "code",
   "execution_count": null,
   "metadata": {},
   "outputs": [],
   "source": [
    "# for interactive slicer\n",
    "%matplotlib widget\n",
    "import numpy as np\n",
    "import pumapy as puma\n",
    "import os\n",
    "\n",
    "if 'BINDER_SERVICE_HOST' in os.environ:  # ONLINE JUPYTER ON BINDER\n",
    "    from pyvirtualdisplay import Display\n",
    "    display = Display(visible=0, size=(600, 400))\n",
    "    display.start()  # necessary for pyvista interactive plots\n",
    "    notebook = True\n",
    "\n",
    "else:  # LOCAL JUPYTER NOTEBOOK\n",
    "    notebook = False  # when running locally, actually open pyvista window"
   ]
  },
  {
   "cell_type": "markdown",
   "metadata": {},
   "source": [
    "## Tutorial\n",
    "\n",
    "In this tutorial we demonstrate the use of the compute_elasticity and compute_stress_analysis functions.\n",
    "These functions rely on a stress analysis solver that uses the finite volume Multi-Point Stress Approximation (MPSA) method."
   ]
  },
  {
   "cell_type": "markdown",
   "metadata": {},
   "source": [
    "We will run four different verification cases. Change the path of the file outputs:"
   ]
  },
  {
   "cell_type": "code",
   "execution_count": null,
   "metadata": {},
   "outputs": [],
   "source": [
    "export_path = \"out\"  # CHANGE THIS PATH\n",
    "\n",
    "if not os.path.exists(export_path):\n",
    "    os.makedirs(export_path)"
   ]
  },
  {
   "cell_type": "markdown",
   "metadata": {},
   "source": [
    "### MPSA Elasticity"
   ]
  },
  {
   "cell_type": "markdown",
   "metadata": {},
   "source": [
    "#### Example: characterizing periodic square cylinder array\n",
    "\n",
    "In this example we compute the 6x6 C tensor for a square array of cylinders and show how to convert this tensor into its\n",
    "mechanical properties (Young's moduli, Poison's ratios, Shear moduli). The results match with what is reported in\n",
    "[this paper](https://link.springer.com/article/10.1007/s00366-018-0616-4)."
   ]
  },
  {
   "cell_type": "code",
   "execution_count": null,
   "metadata": {},
   "outputs": [],
   "source": [
    "dim = 50\n",
    "ws = puma.generate_cylinder_square_array(dim, 0.44)\n",
    "ws.matrix = np.repeat(ws.matrix, 5, axis=2)\n",
    "puma.render_volume(ws, notebook=notebook)\n",
    "\n",
    "mat_elast = puma.experimental.ElasticityMap()\n",
    "mat_elast.add_isotropic_material((0, 0), 68.3, 0.3)\n",
    "mat_elast.add_isotropic_material((1, 1), 379.3, 0.1)"
   ]
  },
  {
   "cell_type": "code",
   "execution_count": null,
   "metadata": {},
   "outputs": [],
   "source": [
    "solver = \"bicgstab\"\n",
    "\n",
    "C = np.zeros((6, 6))\n",
    "C[:, 0], u, s, t = puma.experimental.compute_elasticity(ws, mat_elast, direction='x', side_bc='p', solver_type=solver)\n",
    "puma.experimental.warp_elasticity_fields(ws, u, s, t, scale_factor=10, xy_view=True, notebook=notebook)"
   ]
  },
  {
   "cell_type": "code",
   "execution_count": null,
   "metadata": {},
   "outputs": [],
   "source": [
    "C[:, 1], u, s, t = puma.experimental.compute_elasticity(ws, mat_elast, direction='y',  side_bc='p', solver_type=solver)\n",
    "C[:, 2], u, s, t = puma.experimental.compute_elasticity(ws, mat_elast, direction='z',  side_bc='p', solver_type=solver)\n",
    "C[:, 3], u, s, t = puma.experimental.compute_elasticity(ws, mat_elast, direction='yz', side_bc='p', solver_type=solver)\n",
    "C[:, 4], u, s, t = puma.experimental.compute_elasticity(ws, mat_elast, direction='xz', side_bc='p', solver_type=solver)\n",
    "C[:, 5], u, s, t = puma.experimental.compute_elasticity(ws, mat_elast, direction='xy', side_bc='p', solver_type=solver)\n",
    "puma.experimental.warp_elasticity_fields(ws, u, s, t, scale_factor=10, xy_view=True, notebook=notebook)"
   ]
  },
  {
   "cell_type": "code",
   "execution_count": null,
   "metadata": {},
   "outputs": [],
   "source": [
    "print(C)\n",
    "coeffs = puma.experimental.get_E_nu_from_elasticity(C)"
   ]
  },
  {
   "cell_type": "markdown",
   "metadata": {},
   "source": [
    "#### Example: harmonic averaging, in series along x with free sides\n",
    "\n",
    "We now run a block of material split into two phases with different properties."
   ]
  },
  {
   "cell_type": "code",
   "execution_count": null,
   "metadata": {},
   "outputs": [],
   "source": [
    "export_name = 'halfmat'\n",
    "X = 20\n",
    "Y = 22\n",
    "Z = 22\n",
    "ws = puma.Workspace.from_shape_value((X, Y, Z), 1)\n",
    "ws[int(X / 2):] = 2\n",
    "ws[:, [0, -1]] = 0  # air voxels\n",
    "ws[:, :, [0, -1]] = 0\n",
    "\n",
    "puma.render_volume(ws, solid_color=(255,255,255), notebook=notebook, style='edges', cmap='jet')"
   ]
  },
  {
   "cell_type": "markdown",
   "metadata": {},
   "source": [
    "We can assign the elasticity of the two materials and compute the resulting overall elasticity of the two phases combined as follows:"
   ]
  },
  {
   "cell_type": "code",
   "execution_count": null,
   "metadata": {},
   "outputs": [],
   "source": [
    "elast_map = puma.experimental.ElasticityMap()\n",
    "elast_map.add_isotropic_material((0, 0), 1e-5, 0.3)  # N.B. air has to be assigned a very low Young modulus, not exactly zero\n",
    "elast_map.add_isotropic_material((1, 1), 200, 0.3)\n",
    "elast_map.add_isotropic_material((2, 2), 400, 0.1)"
   ]
  },
  {
   "cell_type": "markdown",
   "metadata": {},
   "source": [
    " In this example, we use the compute_elasticity function, which is useful specifically to compute the homogenized\n",
    " (or effective) elasticity of a multi-phase material. This function imposes a unit displacement along the direction\n",
    " specified by holding the last slice of voxels in place with dirichlet boundary conditions. The side boundary conditions\n",
    " can be set as either 'p'eriodic or 's'ymmetric."
   ]
  },
  {
   "cell_type": "code",
   "execution_count": null,
   "metadata": {},
   "outputs": [],
   "source": [
    "C, u, s, t = puma.experimental.compute_elasticity(ws, elast_map, direction='x', side_bc='p', solver_type=\"direct\")"
   ]
  },
  {
   "cell_type": "markdown",
   "metadata": {},
   "source": [
    "Now we can visualize the displacement and stress fields as:"
   ]
  },
  {
   "cell_type": "code",
   "execution_count": null,
   "metadata": {
    "scrolled": true
   },
   "outputs": [],
   "source": [
    "puma.experimental.warp_elasticity_fields(ws[:, 1:-1, 1:-1], u[:, 1:-1, 1:-1], s[:, 1:-1, 1:-1], t[:, 1:-1, 1:-1], 20, show_original=0.,\n",
    "                            show_edges=False, notebook=notebook)"
   ]
  },
  {
   "cell_type": "markdown",
   "metadata": {},
   "source": [
    "Finally, we can export all of this data (domain, displacement, direct stress, shear stress) in a single .vti file as: "
   ]
  },
  {
   "cell_type": "code",
   "execution_count": null,
   "metadata": {},
   "outputs": [],
   "source": [
    "puma.experimental.export_elasticity_fields_vti(os.path.join(export_path, export_name), ws, u, s, t)"
   ]
  },
  {
   "cell_type": "markdown",
   "metadata": {},
   "source": [
    "#### Example: full built-in beam\n",
    "This case is for a fully built-in homogeneous beam with a y displacement in the middle. Because of the symmetry of this\n",
    "case, we only model half of it."
   ]
  },
  {
   "cell_type": "code",
   "execution_count": null,
   "metadata": {},
   "outputs": [],
   "source": [
    "export_name = 'builtinbeam'\n",
    "X = 100\n",
    "Y = 12\n",
    "Z = 12\n",
    "ws = puma.Workspace.from_shape_value((X, Y, Z), 1)\n",
    "ws.voxel_length = 1\n",
    "\n",
    "ws[:, [0, -1]] = 0\n",
    "ws[:, :, [0, -1]] = 0\n",
    "\n",
    "puma.render_volume(ws, cutoff=(0, 255), solid_color=(255,255,255), style='edges', notebook=notebook)"
   ]
  },
  {
   "cell_type": "markdown",
   "metadata": {},
   "source": [
    "We then run set its elasticity as:"
   ]
  },
  {
   "cell_type": "code",
   "execution_count": null,
   "metadata": {},
   "outputs": [],
   "source": [
    "elast_map = puma.experimental.ElasticityMap()\n",
    "elast_map.add_isotropic_material((0, 0), 1e-5, 0.3)\n",
    "elast_map.add_isotropic_material((1, 1), 200, 0.3)"
   ]
  },
  {
   "cell_type": "markdown",
   "metadata": {},
   "source": [
    "Since we want to set a specific displacement, we need to have more control on the type of boundary conditions we set.\n",
    "This can be done by creating an ElasticityBC object as:"
   ]
  },
  {
   "cell_type": "code",
   "execution_count": null,
   "metadata": {},
   "outputs": [],
   "source": [
    "bc = puma.experimental.ElasticityBC(ws)\n",
    "bc.xfaces[0, :, :, 0] = 0  # dirichlet displacement to zero on the x -ve face\n",
    "bc.xfaces[0, :, :, 1] = 0\n",
    "bc.xfaces[0, :, :, 2] = 0\n",
    "bc.xfaces[1, :, :, 0] = 0   # dirichlet x and z displacements to zero on x +ve face\n",
    "bc.xfaces[1, :, :, 1] = -1  # dirichlet y displacement of -1 on x +ve face\n",
    "bc.xfaces[1, :, :, 2] = 0"
   ]
  },
  {
   "cell_type": "code",
   "execution_count": null,
   "metadata": {},
   "outputs": [],
   "source": [
    "u, s, t = puma.experimental.compute_stress_analysis(ws, elast_map, bc, side_bc='s', solver_type=\"bicgstab\")"
   ]
  },
  {
   "cell_type": "code",
   "execution_count": null,
   "metadata": {},
   "outputs": [],
   "source": [
    "puma.experimental.warp_elasticity_fields(ws[:, 1:-1, 1:-1], u[:, 1:-1, 1:-1], s[:, 1:-1, 1:-1], t[:, 1:-1, 1:-1], 20, show_original=0., show_edges=False, xy_view=True, notebook=notebook)"
   ]
  },
  {
   "cell_type": "code",
   "execution_count": null,
   "metadata": {},
   "outputs": [],
   "source": [
    "puma.experimental.export_elasticity_fields_vti(os.path.join(export_path, export_name), ws, u, s, t)"
   ]
  },
  {
   "cell_type": "markdown",
   "metadata": {},
   "source": [
    "#### Example: plate with a hole\n",
    "\n",
    "In this example, we model a plate with a hole in the middle pulled in the x direction by an input displacement."
   ]
  },
  {
   "cell_type": "code",
   "execution_count": null,
   "metadata": {},
   "outputs": [],
   "source": [
    "export_name = 'platehole'\n",
    "X = 100\n",
    "Y = 102\n",
    "Z = 3\n",
    "ws = puma.Workspace.from_shape_value((X, Y, Z), 1)\n",
    "ws.voxel_length = 1\n",
    "\n",
    "ws[:, [0, -1]] = 0\n",
    "ws[:, :, [0, -1]] = 0\n",
    "\n",
    "# creating circular hole\n",
    "mask = np.ones((X, Y, Z), dtype=bool)\n",
    "mask[X//2, Y//2] = 0\n",
    "from scipy import ndimage as nd\n",
    "distance_mask = nd.morphology.distance_transform_edt(mask)\n",
    "max_distance = np.max(distance_mask)\n",
    "distance_mask_display = (distance_mask*255./max_distance).astype(dtype=np.uint8)\n",
    "in_range = distance_mask <= 35  # this sets how big is the hole with a threshold\n",
    "ws[in_range] = 0\n",
    "\n",
    "puma.render_volume(ws.matrix[:, :, 1:2])\n",
    "\n",
    "# setting material\n",
    "elast_map = puma.experimental.ElasticityMap()\n",
    "elast_map.add_isotropic_material((0, 0), 1e-5, 0.3)\n",
    "elast_map.add_isotropic_material((1, 1), 200, 0.3)\n",
    "\n",
    "# setting dirichlet boundary conditions\n",
    "bc = puma.experimental.ElasticityBC(ws)\n",
    "bc.xfaces[0, :, :, 0] = 0\n",
    "bc.xfaces[0, :, :, 1] = 0\n",
    "bc.xfaces[0, :, :, 2] = 0\n",
    "bc.xfaces[1, :, :, 0] = 1\n",
    "bc.xfaces[1, :, :, 1] = 0\n",
    "bc.xfaces[1, :, :, 2] = 0\n",
    "\n",
    "u, s, t = puma.experimental.compute_stress_analysis(ws, elast_map, bc, side_bc='s', solver_type=\"bicgstab\")"
   ]
  },
  {
   "cell_type": "code",
   "execution_count": null,
   "metadata": {},
   "outputs": [],
   "source": [
    "u[ws.matrix == 0] = 0  # set air to zero\n",
    "puma.experimental.warp_elasticity_fields(ws[:, 1:-1, 1:2], u[:, 1:-1, 1:2], s[:, 1:-1, 1:2], t[:, 1:-1, 1:2], 5, show_original=0., show_edges=False, xy_view=True, rm_id=0, notebook=notebook)"
   ]
  },
  {
   "cell_type": "code",
   "execution_count": null,
   "metadata": {},
   "outputs": [],
   "source": [
    "puma.experimental.export_elasticity_fields_vti(os.path.join(export_path, export_name), ws, u, s, t)"
   ]
  },
  {
   "cell_type": "markdown",
   "metadata": {},
   "source": [
    "#### Example: cracked plate\n",
    "\n",
    "In this example, we model a plate with a single row of voxels removed, mimicking a crack. "
   ]
  },
  {
   "cell_type": "code",
   "execution_count": null,
   "metadata": {},
   "outputs": [],
   "source": [
    "export_name = 'crackedplate'\n",
    "X = 200\n",
    "Y = 52\n",
    "Z = 5\n",
    "crack = 10\n",
    "ws = puma.Workspace.from_shape_value((X, Y, Z), 1)\n",
    "ws.voxel_length = 1\n",
    "ws[X//2-1:X//2+1, -crack + 1:] = 0\n",
    "ws[:, [0, -1]] = 0\n",
    "ws[:, :, [0, -1]] = 0\n",
    "\n",
    "elast_map = puma.experimental.ElasticityMap()\n",
    "elast_map.add_isotropic_material((0, 0), 1e-5, 0.3)\n",
    "elast_map.add_isotropic_material((1, 1), 200, 0.3)\n",
    "\n",
    "bc = puma.experimental.ElasticityBC(ws)\n",
    "bc.xfaces[0, :, :, 0] = 0\n",
    "bc.xfaces[0, :, :, 1] = 0\n",
    "bc.xfaces[0, :, :, 2] = 0\n",
    "bc.xfaces[1, :, :, 0] = 1\n",
    "bc.xfaces[1, :, :, 1] = 0\n",
    "bc.xfaces[1, :, :, 2] = 0\n",
    "\n",
    "u, s, t = puma.experimental.compute_stress_analysis(ws, elast_map, bc, side_bc='s', solver_type=\"bicgstab\")"
   ]
  },
  {
   "cell_type": "code",
   "execution_count": null,
   "metadata": {},
   "outputs": [],
   "source": [
    "u[ws.matrix == 0] = 0  # set air to zero\n",
    "puma.experimental.warp_elasticity_fields(ws[:, 1:-1, 2:3], u[:, 1:-1, 2:3], s[:, 1:-1, 2:3], t[:, 1:-1, 2:3], 20, show_original=0., show_edges=False, xy_view=True, rm_id=0)"
   ]
  },
  {
   "cell_type": "code",
   "execution_count": null,
   "metadata": {},
   "outputs": [],
   "source": [
    "puma.experimental.export_elasticity_fields_vti(os.path.join(export_path, export_name), ws, u, s, t)"
   ]
  },
  {
   "cell_type": "markdown",
   "metadata": {},
   "source": [
    "### Finite Element Elasticity\n",
    "\n",
    "An extra method to compute the elasticity was recently added, which leverages a Finite Element solver based on a Q1-Q1\n",
    "Element-by-element implementation. To learn more about this method, please refer to the permeability tutorial.\n",
    "In order to use it, a user can simply run similar options as above, adding a flag specifying that the method to be\n",
    "used is 'fe'. Some details on the solver:\n",
    "\n",
    "- Only periodic boundary conditions are currently available, so the side_bc flag is ignored\n",
    "- A matrix-free solution approach, which is slightly slower but very memory efficient, can be run when no local orientation\n",
    "is present (i.e. when the local phases are isotropic)\n",
    "- The ligher and faster 'minres' iterative solver can be used since the matrices that are assembled are symmetric\n",
    "- The simulation imposes a residual strain on the whole domain, rather than a unitary displacement gradient on the boundaries"
   ]
  },
  {
   "cell_type": "code",
   "execution_count": null,
   "metadata": {},
   "outputs": [],
   "source": [
    "dim = 50\n",
    "ws = puma.generate_cylinder_square_array(dim, 0.44)\n",
    "ws.matrix = np.repeat(ws.matrix, 5, axis=2)\n",
    "puma.render_volume(ws, notebook=notebook)\n",
    "\n",
    "mat_elast = puma.experimental.ElasticityMap()\n",
    "mat_elast.add_isotropic_material((0, 0), 68.3, 0.3)\n",
    "mat_elast.add_isotropic_material((1, 1), 379.3, 0.1)"
   ]
  },
  {
   "cell_type": "code",
   "execution_count": null,
   "metadata": {},
   "outputs": [],
   "source": [
    "solver = \"minres\"\n",
    "C = np.zeros((6, 6))\n",
    "C[:, 0], u, s, t = puma.experimental.compute_elasticity(ws, mat_elast, direction='x',  solver_type=solver, method='fe')\n",
    "C[:, 1], u, s, t = puma.experimental.compute_elasticity(ws, mat_elast, direction='y',  solver_type=solver, method='fe')\n",
    "C[:, 2], u, s, t = puma.experimental.compute_elasticity(ws, mat_elast, direction='z',  solver_type=solver, method='fe')\n",
    "C[:, 3], u, s, t = puma.experimental.compute_elasticity(ws, mat_elast, direction='yz', solver_type=solver, method='fe')\n",
    "C[:, 4], u, s, t = puma.experimental.compute_elasticity(ws, mat_elast, direction='xz', solver_type=solver, method='fe')\n",
    "C[:, 5], u, s, t = puma.experimental.compute_elasticity(ws, mat_elast, direction='xy', solver_type=solver, method='fe')"
   ]
  },
  {
   "cell_type": "code",
   "execution_count": null,
   "metadata": {},
   "outputs": [],
   "source": [
    "print(C)\n",
    "coeffs = puma.experimental.get_E_nu_from_elasticity(C)"
   ]
  },
  {
   "cell_type": "markdown",
   "metadata": {},
   "source": [
    "#### Example: FiberForm elasticity\n",
    "\n",
    "Now let's compute the elasticity of FiberForm"
   ]
  },
  {
   "cell_type": "code",
   "execution_count": null,
   "metadata": {},
   "outputs": [],
   "source": [
    "ws = puma.import_3Dtiff(puma.path_to_example_file(\"200_fiberform.tif\"), 1.3e-6)  # import example file\n",
    "\n",
    "# scale down domain to speed up computations\n",
    "ws.rescale(0.25, segmented=False)\n",
    "\n",
    "# compute orientation\n",
    "puma.compute_orientation_st(ws, cutoff=(90, 255), sigma=0.7, rho=1.4)\n",
    "\n",
    "# threshold it to binary, 0=void 1=fibers\n",
    "ws.binarize_range((90, 255))\n",
    "\n",
    "# remove floating voxels, unconnected in a specific direction, since they would create singularities\n",
    "ws = puma.experimental.remove_rbms(ws, 0, 'x')\n",
    "\n",
    "# visualize it\n",
    "puma.render_volume(ws, cutoff=(1, ws.max()), cmap='jet', style='edges', notebook=notebook)\n",
    "\n",
    "# assign material\n",
    "mat_elast = puma.experimental.ElasticityMap()\n",
    "mat_elast.add_isotropic_material((0, 0), 1e-5, 0)\n",
    "mat_elast.add_material_to_orient((1, 1), 10, 8, 0.3, 0.3, 5)"
   ]
  },
  {
   "cell_type": "code",
   "execution_count": null,
   "metadata": {},
   "outputs": [],
   "source": [
    "C = np.zeros((6, 6))\n",
    "C[:, 0], u, s, t = puma.experimental.compute_elasticity(ws, mat_elast, direction='x', solver_type='minres', method='fe')\n",
    "u[ws.matrix == 0] = 0  # set air to zero, i.e. no displacement\n",
    "puma.experimental.warp_elasticity_fields(ws, u, s, t, scale_factor=1, notebook=notebook)"
   ]
  },
  {
   "cell_type": "code",
   "execution_count": null,
   "metadata": {},
   "outputs": [],
   "source": [
    "C[:, 1], u, s, t = puma.experimental.compute_elasticity(ws, mat_elast, direction='y', solver_type='minres', method='fe')\n",
    "C[:, 2], u, s, t = puma.experimental.compute_elasticity(ws, mat_elast, direction='z', solver_type='minres', method='fe')\n",
    "C[:, 3], u, s, t = puma.experimental.compute_elasticity(ws, mat_elast, direction='yz', solver_type='minres', method='fe')\n",
    "C[:, 4], u, s, t = puma.experimental.compute_elasticity(ws, mat_elast, direction='xz', solver_type='minres', method='fe')\n",
    "C[:, 5], u, s, t = puma.experimental.compute_elasticity(ws, mat_elast, direction='xy', solver_type='minres', method='fe')"
   ]
  },
  {
   "cell_type": "code",
   "execution_count": null,
   "metadata": {},
   "outputs": [],
   "source": [
    "print(C)\n",
    "coeffs = puma.experimental.get_E_nu_from_elasticity(C)"
   ]
  },
  {
   "cell_type": "code",
   "execution_count": null,
   "metadata": {},
   "outputs": [],
   "source": []
  }
 ],
 "metadata": {
  "kernelspec": {
   "display_name": "Python 3 (ipykernel)",
   "language": "python",
   "name": "python3"
  },
  "language_info": {
   "codemirror_mode": {
    "name": "ipython",
    "version": 3
   },
   "file_extension": ".py",
   "mimetype": "text/x-python",
   "name": "python",
   "nbconvert_exporter": "python",
   "pygments_lexer": "ipython3",
   "version": "3.10.8"
  },
  "toc-autonumbering": true
 },
 "nbformat": 4,
 "nbformat_minor": 4
}
