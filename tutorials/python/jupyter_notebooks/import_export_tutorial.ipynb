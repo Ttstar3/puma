{
 "cells": [
  {
   "cell_type": "markdown",
   "metadata": {},
   "source": [
    "![puma logo](https://github.com/nasa/puma/raw/main/doc/source/puma_logo.png)"
   ]
  },
  {
   "cell_type": "markdown",
   "source": [
    "Run this jupyter tutorial in [![Binder](https://mybinder.org/badge_logo.svg)](https://mybinder.org/v2/gl/jcfergus%2Fpuma-dev/main)"
   ],
   "metadata": {
    "collapsed": false
   }
  },
  {
   "cell_type": "markdown",
   "metadata": {},
   "source": [
    "# Data Import and Export"
   ]
  },
  {
   "cell_type": "markdown",
   "metadata": {},
   "source": [
    "The objective of this notebook is to familiarize new users with the main datastructures that stand at the basis of the\n",
    "PuMA project, and outline the functions to compute material properties (please refer to these papers\n",
    "([1](https://www.sciencedirect.com/science/article/pii/S2352711018300281),\n",
    "[2](https://www.sciencedirect.com/science/article/pii/S235271102100090X)) for more details on the software)."
   ]
  },
  {
   "cell_type": "markdown",
   "metadata": {},
   "source": [
    "## Installation setup and imports"
   ]
  },
  {
   "cell_type": "markdown",
   "metadata": {},
   "source": [
    "The first code block will execute the necessary installation and package import.\n",
    "\n",
    "If you are running this jupyter notebook locally on your machine, assuming you have already installed the software,\n",
    "then the installation step will be skipped"
   ]
  },
  {
   "cell_type": "code",
   "execution_count": null,
   "metadata": {},
   "outputs": [],
   "source": [
    "# for interactive slicer\n",
    "%matplotlib widget\n",
    "import pumapy as puma\n",
    "import pyvista as pv\n",
    "import os\n",
    "\n",
    "if 'BINDER_SERVICE_HOST' in os.environ:  # ONLINE JUPYTER ON BINDER\n",
    "    from pyvirtualdisplay import Display\n",
    "    display = Display(visible=0, size=(600, 400))\n",
    "    display.start()  # necessary for pyvista interactive plots\n",
    "    notebook = True\n",
    "    \n",
    "else:  # LOCAL JUPYTER NOTEBOOK\n",
    "    notebook = False  # when running locally, actually open pyvista window"
   ]
  },
  {
   "cell_type": "markdown",
   "metadata": {},
   "source": [
    "## Tutorial\n",
    "\n",
    "In this tutorial we demonstrate how to input and output a computational domain in PuMA"
   ]
  },
  {
   "cell_type": "markdown",
   "metadata": {},
   "source": [
    "### Explanation of data structures\n",
    "First, we give a brief explanation of the PuMA data structures. For a more detailed description, refer to the tutorial\n",
    "on Workspace Manipulations.\n",
    "\n",
    "Microstructures in PuMA are stored in a data structure called a \"workspace\". The workspace class includes all of the\n",
    "data about the material microstructure, including a 3D matrix of grayscale values, which can be either raw data from\n",
    "tomographic images, or segmented values.\n",
    "\n",
    "Examples of unsegmented and segmented workspaces are demonstrated below: "
   ]
  },
  {
   "cell_type": "code",
   "execution_count": null,
   "metadata": {},
   "outputs": [],
   "source": [
    "ws_unsegmented = puma.import_3Dtiff(puma.path_to_example_file(\"200_fiberform.tif\"), 1.3e-6)\n",
    "ws_segmented = ws_unsegmented.copy()\n",
    "ws_segmented.binarize(90)\n",
    "\n",
    "puma.compare_slices(ws_unsegmented, ws_segmented,'z', index=1)"
   ]
  },
  {
   "cell_type": "markdown",
   "metadata": {},
   "source": [
    "The PuMA workspace class also contains other important information about the workspace. This includes the voxel length,\n",
    "which is the physical length (in meters) of each voxel of the image. Typical tomography data ranges from 1e-4 to 1e-7\n",
    "meters in voxel length. If no value is provided to PuMA, the workspace class defaults to 1e-6 meters, i.e. one micron,\n",
    "as a voxel length. This value can either be set during input-output or it can be set directly for the workspace class.\n",
    "\n",
    "An example is shown below, where the voxel length of a workspace class is manually changed"
   ]
  },
  {
   "cell_type": "code",
   "execution_count": null,
   "metadata": {},
   "outputs": [],
   "source": [
    "ws_unsegmented.voxel_length = 1.5e-6"
   ]
  },
  {
   "cell_type": "markdown",
   "metadata": {},
   "source": [
    "The workspace class can also store the material orientation for each voxel in the domain. This data can either be imported,\n",
    "or can be computed using \"compute_orientation_st\" function, which applies the structure-tensor method to estimate the\n",
    "material orientation."
   ]
  },
  {
   "cell_type": "markdown",
   "metadata": {},
   "source": [
    "### Workspace import and export\n",
    "Now we will give examples of input and output for the workspace class. \n",
    "\n",
    "PuMA import and export uses three different file types: 3D tiff, vti, and binary (extension is .pumapy)\n",
    "\n",
    "The 3D tiff images only include the 3D matrix data for the grayscale values. vti and binary, however, includes all data\n",
    "associated with the puma workspace class, including the matrix data, the orientation data (if used) and the voxel length.\n",
    "\n",
    "3D tiff images are often the exported data format for tomography imaging, so they are included in PuMA. If you have a\n",
    "tomographic image that uses a different file format, it is recommended to use an external image processing software\n",
    "([FIJI](https://imagej.net/software/fiji/) is recommended) and convert the image to a 3D tiff before importing into pumapy.\n",
    "If tomographic reconstruction also needs to be performed, the python package called\n",
    "[Tomopy](https://anaconda.org/conda-forge/tomopy) is recommended.\n",
    "\n",
    "First, let's set where to export the output file:"
   ]
  },
  {
   "cell_type": "code",
   "execution_count": null,
   "metadata": {},
   "outputs": [],
   "source": [
    "# Specify a path where to export file\n",
    "export_path = 'out'  # CHANGE THIS PATH\n",
    "\n",
    "if not os.path.exists(export_path):\n",
    "    os.makedirs(export_path)"
   ]
  },
  {
   "cell_type": "markdown",
   "metadata": {},
   "source": [
    "### Loading and exporting a .vti file"
   ]
  },
  {
   "cell_type": "markdown",
   "metadata": {},
   "source": [
    "Now, we will import an example file from the example data inside the folder pumapy.data:"
   ]
  },
  {
   "cell_type": "code",
   "execution_count": null,
   "metadata": {},
   "outputs": [],
   "source": [
    "ws_vtk = puma.import_vti(puma.path_to_example_file(\"fibers_with_orientation.vti\"))\n",
    "\n",
    "print(\"Voxel Length: \", ws_vtk.voxel_length)\n",
    "print(\"Domain shape: \", ws_vtk.get_shape())"
   ]
  },
  {
   "cell_type": "markdown",
   "metadata": {},
   "source": [
    "We can now visualize both the fibrous microstructure and the fiber orientation side by side (for more visualization tips,\n",
    "follow the visualization tutorial):"
   ]
  },
  {
   "cell_type": "code",
   "execution_count": null,
   "metadata": {},
   "outputs": [],
   "source": [
    "p = pv.Plotter(shape=(1, 2), notebook=notebook)\n",
    "p.subplot(0, 0)\n",
    "p.add_text(\"Microstructure\")\n",
    "puma.render_contour(ws_vtk, (128, 255), notebook=notebook, add_to_plot=p, plot_directly=False)\n",
    "p.subplot(0, 1)\n",
    "p.add_text(\"Fiber orientation\")\n",
    "puma.render_orientation(ws_vtk, notebook=notebook, add_to_plot=p, plot_directly=False)\n",
    "p.show()"
   ]
  },
  {
   "cell_type": "markdown",
   "metadata": {},
   "source": [
    "Finally, we will export it again to our specified directory:"
   ]
  },
  {
   "cell_type": "code",
   "execution_count": null,
   "metadata": {},
   "outputs": [],
   "source": [
    "puma.export_vti(os.path.join(export_path, \"fibers_with_orientation.vti\"), ws_vtk)"
   ]
  },
  {
   "cell_type": "markdown",
   "metadata": {},
   "source": [
    "And that's it for exporting to vti!  Let's repeat the same steps for .pumapy and 3D tiffs."
   ]
  },
  {
   "cell_type": "markdown",
   "metadata": {},
   "source": [
    "### Loading and exporting a .pumapy binary file"
   ]
  },
  {
   "cell_type": "code",
   "execution_count": null,
   "metadata": {},
   "outputs": [],
   "source": [
    "ws_binary = puma.import_bin(puma.path_to_example_file(\"fibers_with_orientation.pumapy\"))\n",
    "\n",
    "print(\"Voxel Length: \", ws_binary.voxel_length)\n",
    "print(\"Domain shape: \", ws_binary.get_shape())"
   ]
  },
  {
   "cell_type": "code",
   "execution_count": null,
   "metadata": {},
   "outputs": [],
   "source": [
    "p = pv.Plotter(shape=(1, 2), notebook=notebook)\n",
    "p.subplot(0, 0)\n",
    "p.add_text(\"Microstructure\")\n",
    "puma.render_contour(ws_binary, (128, 255), notebook=notebook, add_to_plot=p, plot_directly=False)\n",
    "p.subplot(0, 1)\n",
    "p.add_text(\"Fiber orientation\")\n",
    "puma.render_orientation(ws_binary, notebook=notebook, add_to_plot=p, plot_directly=False)\n",
    "p.show()"
   ]
  },
  {
   "cell_type": "code",
   "execution_count": null,
   "metadata": {},
   "outputs": [],
   "source": [
    "puma.export_bin(os.path.join(export_path, \"fibers_with_orientation.vti\"), ws_binary)"
   ]
  },
  {
   "cell_type": "markdown",
   "metadata": {},
   "source": [
    "### Loading and exporting a .tif stack"
   ]
  },
  {
   "cell_type": "code",
   "execution_count": null,
   "metadata": {},
   "outputs": [],
   "source": [
    "ws_tiff = puma.import_3Dtiff(puma.path_to_example_file(\"50_artfibers.tif\"))\n",
    "\n",
    "print(\"Voxel Length: \", ws_tiff.voxel_length)\n",
    "print(\"Domain shape: \", ws_vtk.get_shape())\n",
    "\n",
    "puma.render_contour(ws_tiff, (128,255), notebook=notebook)\n",
    "\n",
    "puma.export_3Dtiff(os.path.join(export_path, \"50_artfibers.tif\"), ws_tiff)"
   ]
  },
  {
   "cell_type": "markdown",
   "metadata": {},
   "source": [
    "As you can see, with the 3D tiff import, the voxel length of the original workspace and the orientation is not preserved.\n",
    "The voxel length can be set by either adding it as an option to the 3D tiff import call, or by setting it directly:"
   ]
  },
  {
   "cell_type": "code",
   "execution_count": null,
   "metadata": {},
   "outputs": [],
   "source": [
    "ws_tiff = puma.import_3Dtiff(puma.path_to_example_file(\"50_artfibers.tif\"), 1.3e-6)\n",
    "print(\"Voxel Length - passed to input function: \", ws_tiff.voxel_length)\n",
    "\n",
    "ws_tiff = puma.import_3Dtiff(puma.path_to_example_file(\"50_artfibers.tif\"))\n",
    "print(\"Voxel Length - no input set: \", ws_tiff.voxel_length)\n",
    "ws_tiff.voxel_length = 1.3e-6\n",
    "print(\"Voxel Length - manually changed: \", ws_tiff.voxel_length)"
   ]
  },
  {
   "cell_type": "code",
   "execution_count": null,
   "metadata": {},
   "outputs": [],
   "source": []
  }
 ],
 "metadata": {
  "kernelspec": {
   "display_name": "Python 3 (ipykernel)",
   "language": "python",
   "name": "python3"
  },
  "language_info": {
   "codemirror_mode": {
    "name": "ipython",
    "version": 3
   },
   "file_extension": ".py",
   "mimetype": "text/x-python",
   "name": "python",
   "nbconvert_exporter": "python",
   "pygments_lexer": "ipython3",
   "version": "3.10.8"
  },
  "toc-autonumbering": true
 },
 "nbformat": 4,
 "nbformat_minor": 4
}
