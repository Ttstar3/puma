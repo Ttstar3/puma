{
 "cells": [
  {
   "cell_type": "markdown",
   "source": [
    "![puma logo](https://github.com/nasa/puma/raw/main/doc/source/puma_logo.png)"
   ],
   "metadata": {
    "collapsed": false
   }
  },
  {
   "cell_type": "markdown",
   "source": [
    "Run this jupyter tutorial in [![Binder](https://mybinder.org/badge_logo.svg)](https://mybinder.org/v2/gl/jcfergus%2Fpuma-dev/main)"
   ],
   "metadata": {
    "collapsed": false
   }
  },
  {
   "cell_type": "markdown",
   "metadata": {},
   "source": [
    "# Workspace Manipulations"
   ]
  },
  {
   "cell_type": "markdown",
   "metadata": {},
   "source": [
    "The objective of this notebook is to familiarize new users with the main datastructures that stand at the basis of the\n",
    "PuMA project, and outline the functions to compute material properties (please refer to these papers\n",
    "([1](https://www.sciencedirect.com/science/article/pii/S2352711018300281),\n",
    "[2](https://www.sciencedirect.com/science/article/pii/S235271102100090X)) for more details on the software)."
   ]
  },
  {
   "cell_type": "markdown",
   "metadata": {},
   "source": [
    "## Installation setup and imports"
   ]
  },
  {
   "cell_type": "markdown",
   "metadata": {},
   "source": [
    "The first code block will execute the necessary installation and package import. \n",
    "\n",
    "If you are running this jupyter notebook locally on your machine, assuming you have already installed the software,\n",
    "then the installation step will be skipped"
   ]
  },
  {
   "cell_type": "code",
   "execution_count": null,
   "metadata": {},
   "outputs": [],
   "source": [
    "# for interactive slicer\n",
    "%matplotlib widget\n",
    "import numpy as np\n",
    "import pumapy as puma\n",
    "import os\n",
    "\n",
    "if 'BINDER_SERVICE_HOST' in os.environ:  # ONLINE JUPYTER ON BINDER\n",
    "    from pyvirtualdisplay import Display\n",
    "    display = Display(visible=0, size=(600, 400))\n",
    "    display.start()  # necessary for pyvista interactive plots\n",
    "    notebook = True\n",
    "\n",
    "else:  # LOCAL JUPYTER NOTEBOOK\n",
    "    notebook = False  # when running locally, actually open pyvista window"
   ]
  },
  {
   "cell_type": "markdown",
   "metadata": {
    "tags": []
   },
   "source": [
    "## Tutorial\n",
    "\n",
    "In this tutorial we demonstrate how to create a workspace and perform basic operations on it, including cropping, rotation, thresholding."
   ]
  },
  {
   "cell_type": "markdown",
   "metadata": {},
   "source": [
    "A workspace is the datastructure at the basis of both PuMA and pumapy and it is basically a container for the material\n",
    "sample that is being analyzed. A workspace is made of little cubes, or voxels (i.e. 3D pixels), holding a value.\n",
    "This simple element definition (formally called Cartesian grid) allows for very fast operations.\n",
    "Inside a workspace object, two different arrays are defined: one called \"matrix\" and the other called \"orientation\".\n",
    "Both of these are nothing but a 3D Numpy array for the matrix (X,Y,Z dimensions of the domain) and a 4D Numpy array\n",
    "for the orientation (dimensions of X,Y,Z,3 for vectors throughout the domain).\n",
    "\n",
    "Next we show the different ways we have implemented to define a workspace class. You can check how to use the methods\n",
    "by running the following commands:"
   ]
  },
  {
   "cell_type": "code",
   "execution_count": null,
   "metadata": {},
   "outputs": [],
   "source": [
    "help(puma.Workspace)  # all class methods"
   ]
  },
  {
   "cell_type": "code",
   "execution_count": null,
   "metadata": {},
   "outputs": [],
   "source": [
    "help(puma.Workspace.rescale)  # specific class method"
   ]
  },
  {
   "cell_type": "code",
   "execution_count": null,
   "metadata": {},
   "outputs": [],
   "source": [
    "# defines a workspace full of zeros of shape 10x11x12\n",
    "ws = puma.Workspace.from_shape((10, 11, 12))\n",
    "print(f\"Shape of workspace: {ws.matrix.shape}\")\n",
    "print(f\"Unique values in matrix: {ws.unique_values()}\")"
   ]
  },
  {
   "cell_type": "code",
   "execution_count": null,
   "metadata": {},
   "outputs": [],
   "source": [
    "# defines a workspace of shape 20x31x212, full of a custom value (in this case ones)\n",
    "ws = puma.Workspace.from_shape_value((20, 31, 212), 1)\n",
    "print(f\"Shape of workspace: {ws.matrix.shape}\")\n",
    "print(f\"Unique values in matrix: {ws.unique_values()}\")"
   ]
  },
  {
   "cell_type": "code",
   "execution_count": null,
   "metadata": {},
   "outputs": [],
   "source": [
    "# defines a workspace of shape 5x6x2, full of a custom value (in this case ones) for the matrix array\n",
    "# and vectors for the orientation array\n",
    "ws_with_orientation = puma.Workspace.from_shape_value_vector((5, 6, 2), 1, (0.4, 2, 5))\n",
    "print(f\"Matrix shape of workspace: {ws_with_orientation.matrix.shape}\")\n",
    "print(f\"Orientation shape of workspace: {ws_with_orientation.orientation.shape}\")\n",
    "print(\"Display Workspace matrix\")\n",
    "ws_with_orientation.show_matrix()"
   ]
  },
  {
   "cell_type": "code",
   "execution_count": null,
   "metadata": {},
   "outputs": [],
   "source": [
    "print(\"Display Workspace orientation\")\n",
    "ws_with_orientation.show_orientation()"
   ]
  },
  {
   "cell_type": "code",
   "execution_count": null,
   "metadata": {},
   "outputs": [],
   "source": [
    "# we can also convert a Numpy array into a Workspace directly by running:\n",
    "array = np.random.randint(5, size=(10, 10, 10))\n",
    "ws = puma.Workspace.from_array(array)\n",
    "print(f\"Matrix shape of workspace: {ws.get_shape()}\")"
   ]
  },
  {
   "cell_type": "code",
   "execution_count": null,
   "metadata": {},
   "outputs": [],
   "source": [
    "# finally, we can create an empty workspace object and assign its matrix directly (not recommended):\n",
    "ws = puma.Workspace()\n",
    "ws.matrix = np.random.randint(5, size=(10, 10, 3))\n",
    "print(\"Display Workspace\")\n",
    "ws.show_matrix()"
   ]
  },
  {
   "cell_type": "code",
   "execution_count": null,
   "metadata": {},
   "outputs": [],
   "source": [
    "# N.B. the following commands are equivalent\n",
    "print(\"Different ways to index the matrix array:\")\n",
    "print(ws[0, 0, 0])\n",
    "print(ws.matrix[0, 0, 0])"
   ]
  },
  {
   "cell_type": "markdown",
   "metadata": {},
   "source": [
    "It is important to keep the first three dimensions (X,Y,Z) of the matrix and orientation class variables the same.\n",
    "This is automatically enforced by using the class methods, but it is not when assigning them directly as in the last example."
   ]
  },
  {
   "cell_type": "markdown",
   "metadata": {},
   "source": [
    "Let's now import a tomography image directly into a workspace (PuMA comes with some example files that can be imported\n",
    "using the path_to_example_file function as shown below):"
   ]
  },
  {
   "cell_type": "code",
   "execution_count": null,
   "metadata": {},
   "outputs": [],
   "source": [
    "ws_raw = puma.import_3Dtiff(puma.path_to_example_file(\"100_fiberform.tif\"), 1.3e-6)\n",
    "print(f\"Shape of workspace: {ws_raw.matrix.shape}\")"
   ]
  },
  {
   "cell_type": "markdown",
   "metadata": {},
   "source": [
    "This specific tiff stack is 8 bit, so the grayscale values will range from 0 to 255. PuMA can also import 16bit images,\n",
    "which allow a much larger range from 0 to 65535 (i.e. 2^16)."
   ]
  },
  {
   "cell_type": "markdown",
   "metadata": {},
   "source": [
    "The voxel length (in meters) of the workspace can either be set during import of a 3D tiff, or manually afterwards, as shown below: "
   ]
  },
  {
   "cell_type": "code",
   "execution_count": null,
   "metadata": {},
   "outputs": [],
   "source": [
    "ws_raw.voxel_length = 1.3e-6"
   ]
  },
  {
   "cell_type": "markdown",
   "metadata": {},
   "source": [
    "We can visualize its slices by running the command below. By scrolling on top of the plot, you can slice through the\n",
    "material along the z axis. You can also use the left/right arrows on the keyboard to skip +/-10 slices or the up/down\n",
    "arrows to skip +/-100 slices (if this does not work automatically, try clicking on the plot first). In addition, on the\n",
    "bottom of the plot, the (x,y) coordinates are shown along with the corresponding grayscale value."
   ]
  },
  {
   "cell_type": "code",
   "execution_count": null,
   "metadata": {},
   "outputs": [],
   "source": [
    "slices = puma.plot_slices(ws_raw, slice_direction='z', crange=None, cmap='gray', index=1)"
   ]
  },
  {
   "cell_type": "markdown",
   "metadata": {},
   "source": [
    "Otherwise, we can also 3D render it as (see the visualization tutorial for more tips on this):"
   ]
  },
  {
   "cell_type": "code",
   "execution_count": null,
   "metadata": {},
   "outputs": [],
   "source": [
    "puma.render_volume(ws_raw, notebook=notebook)"
   ]
  },
  {
   "cell_type": "markdown",
   "metadata": {},
   "source": [
    "Next, we show how to manipulate the domain, e.g. crop, rescale, resize and rotate it. \n",
    "\n",
    "An approach to crop a domain is the following:"
   ]
  },
  {
   "cell_type": "code",
   "execution_count": null,
   "metadata": {},
   "outputs": [],
   "source": [
    "ws_copy = ws_raw.copy()  # make a copy of the domain first\n",
    "ws_copy.matrix = ws_copy[10:40, 35:, -20:]  # crop the domain by selecting ranges\n",
    "print(f\"Shape of original workspace: {ws_raw.get_shape()}\")\n",
    "print(f\"Shape of cropped workspace: {ws_copy.get_shape()}\")"
   ]
  },
  {
   "cell_type": "markdown",
   "metadata": {},
   "source": [
    "However, it is important to not fall in the trap of referencing the same Numpy array. Here is an example of how you\n",
    "SHOULD NOT perform cropping:"
   ]
  },
  {
   "cell_type": "code",
   "execution_count": null,
   "metadata": {},
   "outputs": [],
   "source": [
    "ws_bad = puma.Workspace()\n",
    "ws_bad.matrix = ws_raw[10:40, 35:, -20:]  # WRONG: always make a copy first!\n",
    "ws_bad[0, 0, 0] = np.random.randint(0, 255)  # otherwise, this line also changes ws_raw\n",
    "print(ws_raw[10, 35, -20])\n",
    "print(ws_bad[0, 0, 0])"
   ]
  },
  {
   "cell_type": "markdown",
   "metadata": {},
   "source": [
    "As you can see from the output, both the original Workspace and the newly created one share the same Numpy array for\n",
    "the matrix class variable (the second one is only a section of it, also called a Numpy view). This way, when one is\n",
    "changed, the other one will be changed as well. It is important to make a copy of a domain if the original workspace\n",
    "needs to be kept.\n",
    "\n",
    "Next, we show how we can rescale a domain by a factor or resize it to a specified size. "
   ]
  },
  {
   "cell_type": "code",
   "execution_count": null,
   "metadata": {},
   "outputs": [],
   "source": [
    "ws_copy = ws_raw.copy()\n",
    "ws_copy.rescale(scale=0.5, segmented=False)\n",
    "\n",
    "# Notice that now the axis have different limits\n",
    "puma.compare_slices(ws_raw, ws_copy, index=50)"
   ]
  }
 ],
 "metadata": {
  "kernelspec": {
   "display_name": "Python 3 (ipykernel)",
   "language": "python",
   "name": "python3"
  },
  "language_info": {
   "codemirror_mode": {
    "name": "ipython",
    "version": 3
   },
   "file_extension": ".py",
   "mimetype": "text/x-python",
   "name": "python",
   "nbconvert_exporter": "python",
   "pygments_lexer": "ipython3",
   "version": "3.10.8"
  },
  "toc-autonumbering": true
 },
 "nbformat": 4,
 "nbformat_minor": 4
}
