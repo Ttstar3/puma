{
 "cells": [
  {
   "cell_type": "markdown",
   "metadata": {},
   "source": [
    "![puma logo](https://github.com/nasa/puma/raw/main/doc/source/puma_logo.png)"
   ]
  },
  {
   "cell_type": "markdown",
   "source": [
    "Run this jupyter tutorial in [![Binder](https://mybinder.org/badge_logo.svg)](https://mybinder.org/v2/gl/jcfergus%2Fpuma-dev/main)"
   ],
   "metadata": {
    "collapsed": false
   }
  },
  {
   "cell_type": "markdown",
   "metadata": {},
   "source": [
    "# Orientation Detection"
   ]
  },
  {
   "cell_type": "markdown",
   "metadata": {},
   "source": [
    "The objective of this notebook is to familiarize new users with the main datastructures that stand at the basis of the\n",
    "PuMA project, and outline the functions to compute material properties (please refer to these papers\n",
    "([1](https://www.sciencedirect.com/science/article/pii/S2352711018300281),\n",
    "[2](https://www.sciencedirect.com/science/article/pii/S235271102100090X)) for more details on the software)."
   ]
  },
  {
   "cell_type": "markdown",
   "metadata": {},
   "source": [
    "## Installation setup and imports"
   ]
  },
  {
   "cell_type": "markdown",
   "metadata": {},
   "source": [
    "The first code block will execute the necessary installation and package import.\n",
    "\n",
    "If you are running this jupyter notebook locally on your machine, assuming you have already installed the software,\n",
    "then the installation step will be skipped"
   ]
  },
  {
   "cell_type": "code",
   "execution_count": null,
   "metadata": {},
   "outputs": [],
   "source": [
    "# for interactive slicer\n",
    "%matplotlib widget\n",
    "import pumapy as puma\n",
    "import pyvista as pv\n",
    "import os\n",
    "\n",
    "if 'BINDER_SERVICE_HOST' in os.environ:  # ONLINE JUPYTER ON BINDER\n",
    "    from pyvirtualdisplay import Display\n",
    "    display = Display(visible=0, size=(600, 400))\n",
    "    display.start()  # necessary for pyvista interactive plots\n",
    "    notebook = True\n",
    "    \n",
    "else:  # LOCAL JUPYTER NOTEBOOK\n",
    "    notebook = False  # when running locally, actually open pyvista window"
   ]
  },
  {
   "cell_type": "markdown",
   "metadata": {},
   "source": [
    "## Tutorial\n",
    "\n",
    "In this section, we discuss how to automatically detect the orientation in a raw grayscale micro-CT image.\n",
    "In the PuMA C++ library, there are three different algorithms to detect it: the artificial flux, the ray casting\n",
    "approach, and the structure tensor. Each one of these methods has its pros and cons, but latter one is widely considered\n",
    "the state-of-the-art for detecting the local orientation directly from the raw image grayscales (please refer to\n",
    "[this paper](https://www.sciencedirect.com/science/article/abs/pii/S0927025620301221) for more details on the three\n",
    "PuMA methods). For this reason, the structure tensor method was implemented in pumapy, using Numpy's vectorized eigen\n",
    "value analysis routines.\n",
    "\n",
    "The structure tensor is an image processing approach that directly operates on the grayscale values of a 3D image.\n",
    "Effectively, what the algorithm looks for is the direction of least grayscale gradient change at each voxel throughout\n",
    "the domain. It does so by applying a Derivative of Gaussian (DoG) filter, followed by an extra Gaussian smoothing of the gradients.\n",
    "\n",
    "The pumapy function to compute the orientation can be used in the following way:"
   ]
  },
  {
   "cell_type": "code",
   "execution_count": null,
   "metadata": {},
   "outputs": [],
   "source": [
    "size = (100, 100, 100)  # size of the domain, in voxels. \n",
    "radius = 6  # radius of the fibers to be generated, in voxels\n",
    "nFibers = None  # Can specify either the number of fibers or the porosity\n",
    "porosity = 0.8  # porosity of the overall structure\n",
    "phi = 90    # A value between 0 and 90 that controls the amount that the fibers lie *out of* the XY plane,\n",
    "            # with 0 meaning all fibers lie in the XY plane, and 90 meaning that cylinders are randomly oriented out of the\n",
    "            # plane by as much as +/- 90 degrees.\n",
    "theta = 90  # A value between 0 and 90 that controls the amount of rotation *in the* XY plane,\n",
    "            # with 0 meaning all fibers point in the X-direction, and 90 meaning they are randomly rotated about the\n",
    "            # Z axis by as much as +/- 90 degrees.\n",
    "length = 100 # Length of the fibers to be generated\n",
    "max_iter = 3  # optional (default=3), iterations to refine the porosity\n",
    "allow_intersect = True  # optional (default=True), allow intersection betweem the fibers: if equal to False, the function runs considerably more slowly because    \n",
    "                        # randomly proposed fibers are rejected if they intersect any other fiber - use with relatively high porosity for reasonable runtimes \n",
    "segmented = False  # assign unique IDs to each fiber (if set to False, range will be from 0-255)\n",
    "\n",
    "ws_fibers = puma.generate_random_fibers(size, radius, nFibers, porosity, phi, theta, length, allow_intersect=allow_intersect, segmented=segmented)\n",
    "\n",
    "# sigma is the std of the DoG, whereas rho is the one of the second Gaussian smoothing\n",
    "# in order to obtain optimal performance, we should always have:  sigma > rho\n",
    "puma.compute_orientation_st(ws_fibers, cutoff=(128, 255), sigma=1.4, rho=0.7)"
   ]
  },
  {
   "cell_type": "markdown",
   "metadata": {},
   "source": [
    "The orientation field is automatically added to the workspace.orientation Numpy array. We can now visualize it by running: "
   ]
  },
  {
   "cell_type": "code",
   "execution_count": null,
   "metadata": {},
   "outputs": [],
   "source": [
    "p = pv.Plotter(shape=(1, 2), notebook=notebook)\n",
    "p.subplot(0, 0)\n",
    "p.add_text(\"Microstructure\")\n",
    "puma.render_contour(ws_fibers, (128, 255), notebook=notebook, add_to_plot=p, plot_directly=False)\n",
    "p.subplot(0, 1)\n",
    "p.add_text(\"Detected fiber orientation\")\n",
    "puma.render_orientation(ws_fibers, notebook=notebook, add_to_plot=p, plot_directly=False)\n",
    "p.show()"
   ]
  },
  {
   "cell_type": "markdown",
   "metadata": {},
   "source": [
    "The local material orientation is an important input to the functions to compute the effective conductivity and elasticity,\n",
    "when treating the local phases as anisotropic."
   ]
  },
  {
   "cell_type": "markdown",
   "metadata": {},
   "source": [
    "### Orientation Detection on Segmented Images\n",
    "\n",
    "For segmented images, the orientation detection requires a pre-processing step to apply a Euclidean Distance Transform\n",
    "prior to running the structure tensor. This pre-processing is an optional step in the oritention module, and can be\n",
    "activated by setting the edt=True flag. An example is shown below for a segmented random fiber structure"
   ]
  },
  {
   "cell_type": "code",
   "execution_count": null,
   "metadata": {},
   "outputs": [],
   "source": [
    "size = (100, 100, 100)  # size of the domain, in voxels. \n",
    "radius = 6  # radius of the fibers to be generated, in voxels\n",
    "nFibers = None  # Can specify either the number of fibers or the porosity\n",
    "porosity = 0.8  # porosity of the overall structure\n",
    "phi = 90    # A value between 0 and 90 that controls the amount that the fibers lie *out of* the XY plane,\n",
    "            # with 0 meaning all fibers lie in the XY plane, and 90 meaning that cylinders are randomly oriented out of the\n",
    "            # plane by as much as +/- 90 degrees.\n",
    "theta = 90  # A value between 0 and 90 that controls the amount of rotation *in the* XY plane,\n",
    "            # with 0 meaning all fibers point in the X-direction, and 90 meaning they are randomly rotated about the\n",
    "            # Z axis by as much as +/- 90 degrees.\n",
    "length = 100 # Length of the fibers to be generated\n",
    "max_iter = 3  # optional (default=3), iterations to refine the porosity\n",
    "allow_intersect = True  # optional (default=True), allow intersection betweem the fibers: if equal to False, the function runs considerably more slowly because    \n",
    "                        # randomly proposed fibers are rejected if they intersect any other fiber - use with relatively high porosity for reasonable runtimes \n",
    "segmented = True  # assign unique IDs to each fiber (if set to False, range will be from 0-255)\n",
    "\n",
    "ws_fibers = puma.generate_random_fibers(size, radius, nFibers, porosity, phi, theta, length, allow_intersect=allow_intersect, segmented=segmented)\n",
    "\n",
    "# sigma is the std of the DoG, whereas rho is the one of the second Gaussian smoothing\n",
    "# in order to obtain optimal performance, we should always have:  sigma > rho\n",
    "puma.compute_orientation_st(ws_fibers, cutoff=(1, 49), sigma=1.4, rho=0.7, edt=True)"
   ]
  },
  {
   "cell_type": "markdown",
   "metadata": {},
   "source": [
    "The orientation field is automatically added to the workspace.orientation Numpy array. We can now visualize it by running: "
   ]
  },
  {
   "cell_type": "code",
   "execution_count": null,
   "metadata": {},
   "outputs": [],
   "source": [
    "p = pv.Plotter(shape=(1, 2), notebook=notebook)\n",
    "p.subplot(0, 0)\n",
    "p.add_text(\"Microstructure\")\n",
    "puma.render_contour(ws_fibers, (1, 49), notebook=notebook, add_to_plot=p, plot_directly=False)\n",
    "p.subplot(0, 1)\n",
    "p.add_text(\"Detected fiber orientation\")\n",
    "puma.render_orientation(ws_fibers, notebook=notebook, add_to_plot=p, plot_directly=False)\n",
    "p.show()"
   ]
  }
 ],
 "metadata": {
  "kernelspec": {
   "display_name": "Python 3 (ipykernel)",
   "language": "python",
   "name": "python3"
  },
  "language_info": {
   "codemirror_mode": {
    "name": "ipython",
    "version": 3
   },
   "file_extension": ".py",
   "mimetype": "text/x-python",
   "name": "python",
   "nbconvert_exporter": "python",
   "pygments_lexer": "ipython3",
   "version": "3.10.8"
  },
  "toc-autonumbering": true
 },
 "nbformat": 4,
 "nbformat_minor": 4
}
