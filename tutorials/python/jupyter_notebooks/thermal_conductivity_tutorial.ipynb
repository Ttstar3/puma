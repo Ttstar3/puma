{
 "cells": [
  {
   "cell_type": "markdown",
   "metadata": {},
   "source": [
    "![puma logo](https://github.com/nasa/puma/raw/main/doc/source/puma_logo.png)"
   ]
  },
  {
   "cell_type": "markdown",
   "source": [
    "Run this jupyter tutorial in [![Binder](https://mybinder.org/badge_logo.svg)](https://mybinder.org/v2/gl/jcfergus%2Fpuma-dev/main)"
   ],
   "metadata": {
    "collapsed": false
   }
  },
  {
   "cell_type": "markdown",
   "metadata": {},
   "source": [
    "# Thermal Conductivity"
   ]
  },
  {
   "cell_type": "markdown",
   "metadata": {},
   "source": [
    "The objective of this notebook is to familiarize new users with the main datastructures that stand at the basis of the\n",
    "PuMA project, and outline the functions to compute material properties (please refer to these papers\n",
    "([1](https://www.sciencedirect.com/science/article/pii/S2352711018300281),\n",
    "[2](https://www.sciencedirect.com/science/article/pii/S235271102100090X)) for more details on the software)."
   ]
  },
  {
   "cell_type": "markdown",
   "metadata": {},
   "source": [
    "## Installation setup and imports"
   ]
  },
  {
   "cell_type": "markdown",
   "metadata": {},
   "source": [
    "The first code block will execute the necessary installation and package import. \n",
    "\n",
    "If you are running this jupyter notebook locally on your machine, assuming you have already installed the software,\n",
    "then the installation step will be skipped."
   ]
  },
  {
   "cell_type": "code",
   "execution_count": null,
   "metadata": {},
   "outputs": [],
   "source": [
    "# for interactive slicer\n",
    "%matplotlib widget\n",
    "import numpy as np\n",
    "import pumapy as puma\n",
    "import pyvista as pv\n",
    "import os\n",
    "\n",
    "if 'BINDER_SERVICE_HOST' in os.environ:  # ONLINE JUPYTER ON BINDER\n",
    "    from pyvirtualdisplay import Display\n",
    "    display = Display(visible=0, size=(600, 400))\n",
    "    display.start()  # necessary for pyvista interactive plots\n",
    "    notebook = True\n",
    "    \n",
    "else:  # LOCAL JUPYTER NOTEBOOK\n",
    "    notebook = False  # when running locally, actually open pyvista window"
   ]
  },
  {
   "cell_type": "markdown",
   "metadata": {},
   "source": [
    "## Tutorial\n",
    "\n",
    "In this tutorial we demonstrate how to compute the effective thermal conductivity of a material based on its\n",
    "microstructure and constituent properties. In this example, we compute the thermal conductivity of FiberForm, a\n",
    "carbon fiber based material.\n",
    "\n",
    "Note: The sample size used in this example is very small, well below the size needed for a representative volume of the sample. "
   ]
  },
  {
   "cell_type": "markdown",
   "metadata": {},
   "source": [
    "### Isotropic conductivity"
   ]
  },
  {
   "cell_type": "markdown",
   "metadata": {},
   "source": [
    "We will show a thermal conductivity simulation based on a non-segmented representation of the material. In the example\n",
    "material used, the void phase is contained in grayscale range [0,89] and the solid phase is contained in the grayscale\n",
    "range of [90,255]. This range varies for each tomography sample.\n",
    "\n",
    "The outputs of the thermal conductivity simulation are the effective thermal conductivity tensor, the steady state\n",
    "temperature profile, and the steady state heat flux. Note that we are solving this problem using an iterative solver\n",
    "(Scipy's conjugate gradient) and a matrix-free approach, in which we don't statically allocate any large sparse matrix,\n",
    "but instead we compute the residual dynamically."
   ]
  },
  {
   "cell_type": "code",
   "execution_count": null,
   "metadata": {},
   "outputs": [],
   "source": [
    "# Import an example tomography file of size 200^3 and voxel length 1.3e-6\n",
    "ws_fiberform = puma.import_3Dtiff(puma.path_to_example_file(\"200_fiberform.tif\"), 1.3e-6)\n",
    "\n",
    "# Cropping the 200x200x200 image into a 100x100x100 sample\n",
    "ws_fiberform.matrix = ws_fiberform.matrix[50:150, 50:150, 50:150]\n",
    "\n",
    "# Generating a conductivity map. This stores the conductivity values for each phase of the material\n",
    "cond_map = puma.IsotropicConductivityMap()\n",
    "# First, we set the conductivity of the void phase to be 0.0257 (air at STP)\n",
    "cond_map.add_material((0, 89), 1)\n",
    "# Next we set the conductivity of the solid phase to be 12 (typical value for carbon fiber)\n",
    "cond_map.add_material((90, 255), 0)\n",
    "\n",
    "# The thermal conductivity calculation needs to be run for each of the three simulation directions. \n",
    "# For each simulation, a temperature gradient is forced in the simulation direction, and converged to steady state\n",
    "\n",
    "# Important simulation inputs: \n",
    "#.  1. workspace - the computational domain for the simulation, containing your material microstructure\n",
    "#.  2. cond_map - the conductivity values for each material phase. To use the isotropic solver, it has to be of type: IsotropicConductivityMap\n",
    "#.  3. direction - the simulation direction, 'x','y','z', or '' for prescribed_bc\n",
    "#.  4. side_bc - boundary condition in the non-simulation direction. Can be 'p' - periodic, 's' - symmetric\n",
    "#.  5. tolerance - accuracy of the numerical solver, defaults to 1e-5. \n",
    "#.  6. maxiter - maximum number of iterations, defaults to 10,000\n",
    "#.  7. solver_type - the iterative solver used. Can be 'bicgstab', 'cg', 'gmres', or 'direct'. Defaults to 'bicgstab'\n",
    "#.  8. matrix_free - whether to use the slower but lighter matrix-free approach (only available for the isotropic solver when solver_type!=\"direct\"), or instantiating the big sparse A matrix\n",
    "#.  9. method - whether to use finite volume (\"fv\") or finite element (\"fe\") solver\n",
    "#.  10. prescribed_bc - has to be of type IsotropicConductivityBC, and it provides a more flexible way of specifying dirichlet BC, which can be imposed on any voxel of the domain\n",
    "\n",
    "k_eff_x, T_x, q_x = puma.compute_thermal_conductivity(ws_fiberform, cond_map, 'x', 'p', tolerance=1e-4, solver_type='cg', matrix_free=True, method='fv')\n",
    "k_eff_y, T_y, q_y = puma.compute_thermal_conductivity(ws_fiberform, cond_map, 'y', 'p', tolerance=1e-4, solver_type='cg', matrix_free=True, method='fv')\n",
    "k_eff_z, T_z, q_z = puma.compute_thermal_conductivity(ws_fiberform, cond_map, 'z', 'p', tolerance=1e-4, solver_type='cg', matrix_free=True, method='fv')\n",
    "\n",
    "print(\"Effective thermal conductivity tensor:\")\n",
    "print(\"[\", k_eff_x[0], k_eff_y[0], k_eff_z[0], \"]\")\n",
    "print(\"[\", k_eff_x[1], k_eff_y[1], k_eff_z[1], \"]\")\n",
    "print(\"[\", k_eff_x[2], k_eff_y[2], k_eff_z[2], \"]\")"
   ]
  },
  {
   "cell_type": "code",
   "execution_count": null,
   "metadata": {},
   "outputs": [],
   "source": [
    "# Visualize both the temperature field and the fibers\n",
    "p = pv.Plotter(notebook=notebook)\n",
    "p.add_text(\"Fibers with Temperature field for x simulation\")\n",
    "puma.render_contour(ws_fiberform, cutoff=(90, 255), notebook=notebook, add_to_plot=p, plot_directly=False)\n",
    "puma.render_volume(T_x[:, :2*T_x.shape[1]//3], solid_color=None, cmap='jet', notebook=notebook, add_to_plot=p, plot_directly=False)\n",
    "p.show()"
   ]
  },
  {
   "cell_type": "code",
   "execution_count": null,
   "metadata": {},
   "outputs": [],
   "source": [
    "# Visualizing the flux magnitude: \n",
    "puma.render_volume(np.linalg.norm(q_x, axis=3), notebook=notebook, cmap='jet')"
   ]
  },
  {
   "cell_type": "markdown",
   "metadata": {},
   "source": [
    "Below is an example of a thermal conductivity simulation, but now performed on a segmented image in order to show an\n",
    "alternative option."
   ]
  },
  {
   "cell_type": "code",
   "execution_count": null,
   "metadata": {},
   "outputs": [],
   "source": [
    "# Segments the image. All values >= 90 are set to 1, and all values <90 are set to 0.\n",
    "ws_fiberform.binarize(90)\n",
    "\n",
    "# Generating a conductivity map. This stores the conductivity values for each phase of the material\n",
    "cond_map = puma.IsotropicConductivityMap()\n",
    "# First, we set the conductivity of the void phase to be 0.0257 (air at STP)\n",
    "cond_map.add_material((0, 0), 0.0257)\n",
    "# Next we set the conductivity of the solid phase to be 12 (typical value for carbon fiber)\n",
    "cond_map.add_material((1, 1), 12)\n",
    "# Note that the grayscale ranges have changed relative to the last example, since this image is already segmented\n",
    "\n",
    "# The thermal conductivity calculation needs to be run for each of the three simulation directions. \n",
    "# For each simulation, a temperature gradient is forced in the simulation direction, and converged to steady state\n",
    "k_eff_x, T_x, q_x = puma.compute_thermal_conductivity(ws_fiberform, cond_map, 'x', 'p', tolerance=1e-4, solver_type='cg')\n",
    "k_eff_y, T_y, q_y = puma.compute_thermal_conductivity(ws_fiberform, cond_map, 'y', 'p', tolerance=1e-4, solver_type='cg')\n",
    "k_eff_z, T_z, q_z = puma.compute_thermal_conductivity(ws_fiberform, cond_map, 'z', 'p', tolerance=1e-4, solver_type='cg')\n",
    "\n",
    "print(\"Effective thermal conductivity tensor:\")\n",
    "print(\"[\", k_eff_x[0], k_eff_y[0], k_eff_z[0], \"]\")\n",
    "print(\"[\", k_eff_x[1], k_eff_y[1], k_eff_z[1], \"]\")\n",
    "print(\"[\", k_eff_x[2], k_eff_y[2], k_eff_z[2], \"]\")"
   ]
  },
  {
   "cell_type": "code",
   "execution_count": null,
   "metadata": {},
   "outputs": [],
   "source": [
    "# Visualizing the temperature field: \n",
    "puma.render_volume(T_y, solid_color=None, notebook=notebook, cmap='jet')"
   ]
  },
  {
   "cell_type": "code",
   "execution_count": null,
   "metadata": {},
   "outputs": [],
   "source": [
    "# Visualizing the flux magnitude: \n",
    "puma.render_volume(np.linalg.norm(q_y, axis=3), notebook=notebook, cmap='jet')"
   ]
  },
  {
   "cell_type": "markdown",
   "metadata": {},
   "source": [
    "### Anisotropic conductivity\n",
    "Next we show how to compute the conductivity if the constituent phases are anisotropic themselves. This solver is\n",
    "significantly slower because of the higher complexity of the numerical scheme used, namely the Multi-Point Flux\n",
    "Approximation (MPFA) (please refer to [this paper](https://www.sciencedirect.com/science/article/abs/pii/S092702562030447X)\n",
    "for more details on the anisotropic conductivity solver in PuMA). For this reason, we scale the domain by half in order\n",
    "to keep the runtime reasonable."
   ]
  },
  {
   "cell_type": "code",
   "execution_count": null,
   "metadata": {},
   "outputs": [],
   "source": [
    "# Import an example tomography file of size 100^3 and voxel length 1.3e-6\n",
    "ws_fiberform = puma.import_3Dtiff(puma.path_to_example_file(\"200_fiberform.tif\"), 1.3e-6)\n",
    "ws_fiberform.rescale(0.5, False)\n",
    "\n",
    "# detect the fiber orientation using the Structure Tensor\n",
    "puma.compute_orientation_st(ws_fiberform, cutoff=(90, 255), sigma=1.4, rho=0.7)"
   ]
  },
  {
   "cell_type": "code",
   "execution_count": null,
   "metadata": {},
   "outputs": [],
   "source": [
    "# visualize the detected orientation field\n",
    "puma.render_orientation(ws_fiberform, notebook=notebook)"
   ]
  },
  {
   "cell_type": "code",
   "execution_count": null,
   "metadata": {},
   "outputs": [],
   "source": [
    "# Generating a conductivity map. This stores the conductivity values for each phase of the material\n",
    "cond_map = puma.AnisotropicConductivityMap()\n",
    "# First, we set the conductivity of the void phase to be 0.0257 (air at STP)\n",
    "cond_map.add_isotropic_material((0, 89), 0.0257)\n",
    "# Next we set the conductivity of the fiber phase to be 12 along the fiber and 0.7 across it\n",
    "cond_map.add_material_to_orient((90, 255), 12., 0.7)\n",
    "\n",
    "# Simulation inputs: \n",
    "#.  1. workspace - the computational domain for the simulation, containing your material microstructure\n",
    "#.  2. cond_map - the conductivity values for each material phase. To use the isotropic solver, it has to be of type: AnisotropicConductivityMap\n",
    "#.  3. direction - the simulation direction, 'x','y','z', or '' for prescribed_bc\n",
    "#.  4. side_bc - boundary condition in the non-simulation direction. Can be 'p' - periodic, 's' - symmetric, 'd' - dirichlet\n",
    "#.  5. tolerance (optional) - accuracy of the numerical solver, defaults to 1e-4. \n",
    "#.  6. maxiter (optional) - maximum number of iterations, defaults to 10,000\n",
    "#.  7. solver_type (optional) - the iterative solver used. Can be 'bicgstab', 'cg', 'gmres', or 'direct'. Defaults to 'bicgstab'\n",
    "#.  8. method - whether to use finite volume (\"fv\") or finite element (\"fe\") solver\n",
    "#.  9. prescribed_bc - has to be of type AnisotropicConductivityBC, and it provides a more flexible way of specifying dirichlet BC, which can be imposed on any voxel of the domain\n",
    "\n",
    "# When an anisotropic conductivity map is fed, the solver automatically uses the MPFA finite volume method\n",
    "k_eff_x, T_x, q_x = puma.compute_thermal_conductivity(ws_fiberform, cond_map, 'x', 'p', tolerance=1e-4, solver_type='bicgstab', method='fv')\n",
    "k_eff_y, T_y, q_y = puma.compute_thermal_conductivity(ws_fiberform, cond_map, 'y', 'p', tolerance=1e-4, solver_type='bicgstab', method='fv')\n",
    "k_eff_z, T_z, q_z = puma.compute_thermal_conductivity(ws_fiberform, cond_map, 'z', 'p', tolerance=1e-4, solver_type='bicgstab', method='fv')\n",
    "\n",
    "print(\"Effective thermal conductivity tensor:\")\n",
    "print(\"[\", k_eff_x[0], k_eff_y[0], k_eff_z[0], \"]\")\n",
    "print(\"[\", k_eff_x[1], k_eff_y[1], k_eff_z[1], \"]\")\n",
    "print(\"[\", k_eff_x[2], k_eff_y[2], k_eff_z[2], \"]\")"
   ]
  },
  {
   "cell_type": "markdown",
   "metadata": {},
   "source": [
    "If the local phases are isotropic, the anisotropic solver can still be used (although it would not be convenient\n",
    "because it is slower). As proof that the two solvers are actually giving the same answer, we could run the following case,\n",
    "in which we compute the orientation and then set the same conductivity to both the conductivity components (i.e. along\n",
    "and across a fiber):"
   ]
  },
  {
   "cell_type": "code",
   "execution_count": null,
   "metadata": {},
   "outputs": [],
   "source": [
    "ws_fiberform = puma.import_3Dtiff(puma.path_to_example_file(\"200_fiberform.tif\"), 1.3e-6)\n",
    "ws_fiberform.rescale(0.5, segmented=False)\n",
    "\n",
    "cond_map = puma.IsotropicConductivityMap()\n",
    "cond_map.add_material((0, 89), 0.0257)\n",
    "cond_map.add_material((90, 255), 12)\n",
    "\n",
    "print(\"\\nIsotropic solver\")\n",
    "k_eff_x, T_x, q_x = puma.compute_thermal_conductivity(ws_fiberform, cond_map, 'x', 'p', tolerance=1e-4)\n",
    "k_eff_y, T_y, q_y = puma.compute_thermal_conductivity(ws_fiberform, cond_map, 'y', 'p', tolerance=1e-4)\n",
    "k_eff_z, T_z, q_z = puma.compute_thermal_conductivity(ws_fiberform, cond_map, 'z', 'p', tolerance=1e-4)\n",
    "\n",
    "puma.compute_orientation_st(ws_fiberform, cutoff=(90, 255), sigma=1.4, rho=0.7)\n",
    "\n",
    "cond_map = puma.AnisotropicConductivityMap()\n",
    "cond_map.add_isotropic_material((0, 89), 0.0257)\n",
    "cond_map.add_material_to_orient((90, 255), 12., 12)\n",
    "\n",
    "print(\"\\nAnisotropic solver\")\n",
    "k_eff_x_ani, T_x_ani, q_x_ani = puma.compute_thermal_conductivity(ws_fiberform, cond_map, 'x', 'p', tolerance=1e-4)\n",
    "k_eff_y_ani, T_y_ani, q_y_ani = puma.compute_thermal_conductivity(ws_fiberform, cond_map, 'y', 'p', tolerance=1e-4)\n",
    "k_eff_z_ani, T_z_ani, q_z_ani = puma.compute_thermal_conductivity(ws_fiberform, cond_map, 'z', 'p', tolerance=1e-4)\n",
    "\n",
    "print(\"\\nEffective conductivity using isotropic solver\")\n",
    "print(\"[\", k_eff_x[0], k_eff_y[0], k_eff_z[0], \"]\")\n",
    "print(\"[\", k_eff_x[1], k_eff_y[1], k_eff_z[1], \"]\")\n",
    "print(\"[\", k_eff_x[2], k_eff_y[2], k_eff_z[2], \"]\")\n",
    "\n",
    "print(\"\\nEffective conductivity using anisotropic solver\")\n",
    "print(\"[\", k_eff_x_ani[0], k_eff_y_ani[0], k_eff_z_ani[0], \"]\")\n",
    "print(\"[\", k_eff_x_ani[1], k_eff_y_ani[1], k_eff_z_ani[1], \"]\")\n",
    "print(\"[\", k_eff_x_ani[2], k_eff_y_ani[2], k_eff_z_ani[2], \"]\")\n"
   ]
  },
  {
   "cell_type": "markdown",
   "metadata": {},
   "source": [
    "As you can see, the tensors that have been estimated are very similar. The slight differences are coming from the high\n",
    "tolerance that was"
   ]
  },
  {
   "cell_type": "markdown",
   "metadata": {},
   "source": [
    "### Finite Element Conductivity\n",
    "\n",
    "An extra method to compute the thermal conductivity was recently added, which leverages a Finite Element solver based\n",
    "on a Q1-Q1 Element-by-element implementation. To learn more about this method, please refer to the permeability tutorial.\n",
    "In order to use it, a user can simply run similar options as for the anisotropic case above, adding a flag specifying\n",
    "that the method to be used is 'fe'. Some details on the solver:\n",
    "\n",
    "- Only periodic boundary conditions are currently available, so the side_bc flag is ignored\n",
    "- A matrix-free solution approach (slightly slower but very memory efficient) can be run when no local orientation is\n",
    "present, i.e. when the local phases are isotropic\n",
    "- The ligher and faster 'minres' iterative solver can be used since the matrices that are assembled are symmetric\n",
    "- The simulation imposes a residual flux on the whole domain, rather than a unitary temperature gradient on the boundaries"
   ]
  },
  {
   "cell_type": "code",
   "execution_count": null,
   "metadata": {},
   "outputs": [],
   "source": [
    "ws_fiberform = puma.import_3Dtiff(puma.path_to_example_file(\"100_fiberform.tif\"), 1.3e-6)\n",
    "# ws_fiberform.rescale(0.5, segmented=False)\n",
    "\n",
    "puma.compute_orientation_st(ws_fiberform, cutoff=(90, 255), sigma=1.4, rho=0.7)\n",
    "\n",
    "cond_map = puma.AnisotropicConductivityMap()\n",
    "cond_map.add_isotropic_material((0, 89), 0.0257)\n",
    "cond_map.add_material_to_orient((90, 255), 12., 12)\n",
    "\n",
    "print(\"\\nAnisotropic solver\")\n",
    "k_eff_x_ani_fe, T_x_ani, q_x_ani = puma.compute_thermal_conductivity(ws_fiberform, cond_map, 'x', tolerance=1e-7, solver_type='minres', method='fe')\n",
    "k_eff_y_ani_fe, T_y_ani, q_y_ani = puma.compute_thermal_conductivity(ws_fiberform, cond_map, 'y', tolerance=1e-7, solver_type='minres', method='fe')\n",
    "k_eff_z_ani_fe, T_z_ani, q_z_ani = puma.compute_thermal_conductivity(ws_fiberform, cond_map, 'z', tolerance=1e-7, solver_type='minres', method='fe')\n",
    "\n",
    "print(\"\\nEffective conductivity using anisotropic solver\")\n",
    "print(\"[\", k_eff_x_ani_fe[0], k_eff_y_ani_fe[0], k_eff_z_ani_fe[0], \"]\")\n",
    "print(\"[\", k_eff_x_ani_fe[1], k_eff_y_ani_fe[1], k_eff_z_ani_fe[1], \"]\")\n",
    "print(\"[\", k_eff_x_ani_fe[2], k_eff_y_ani_fe[2], k_eff_z_ani_fe[2], \"]\")"
   ]
  },
  {
   "cell_type": "code",
   "execution_count": null,
   "metadata": {},
   "outputs": [],
   "source": []
  }
 ],
 "metadata": {
  "kernelspec": {
   "display_name": "Python 3 (ipykernel)",
   "language": "python",
   "name": "python3"
  },
  "language_info": {
   "codemirror_mode": {
    "name": "ipython",
    "version": 3
   },
   "file_extension": ".py",
   "mimetype": "text/x-python",
   "name": "python",
   "nbconvert_exporter": "python",
   "pygments_lexer": "ipython3",
   "version": "3.10.8"
  },
  "toc-autonumbering": true
 },
 "nbformat": 4,
 "nbformat_minor": 4
}
