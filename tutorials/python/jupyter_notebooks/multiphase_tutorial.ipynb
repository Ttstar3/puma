{
 "cells": [
  {
   "cell_type": "markdown",
   "metadata": {},
   "source": [
    "![puma logo](https://github.com/nasa/puma/raw/main/doc/source/puma_logo.png)"
   ]
  },
  {
   "cell_type": "markdown",
   "source": [
    "Run this jupyter tutorial in [![Binder](https://mybinder.org/badge_logo.svg)](https://mybinder.org/v2/gl/jcfergus%2Fpuma-dev/main)"
   ],
   "metadata": {
    "collapsed": false
   }
  },
  {
   "cell_type": "markdown",
   "metadata": {
    "tags": []
   },
   "source": [
    "# Multi-phase Material"
   ]
  },
  {
   "cell_type": "markdown",
   "metadata": {},
   "source": [
    "The objective of this notebook is to familiarize new users with the main datastructures that stand at the basis of the\n",
    "PuMA project, and outline the functions to compute material properties (please refer to these papers\n",
    "([1](https://www.sciencedirect.com/science/article/pii/S2352711018300281),\n",
    "[2](https://www.sciencedirect.com/science/article/pii/S235271102100090X)) for more details on the software)."
   ]
  },
  {
   "cell_type": "markdown",
   "metadata": {},
   "source": [
    "## Installation setup and imports"
   ]
  },
  {
   "cell_type": "markdown",
   "metadata": {},
   "source": [
    "The first code block will execute the necessary installation and package import.\n",
    "\n",
    "If you are running this jupyter notebook locally on your machine, assuming you have already installed the software,\n",
    "then the installation step will be skipped"
   ]
  },
  {
   "cell_type": "code",
   "execution_count": null,
   "metadata": {},
   "outputs": [],
   "source": [
    "# for interactive slicer\n",
    "%matplotlib widget\n",
    "import pumapy as puma\n",
    "import numpy as np\n",
    "import os\n",
    "\n",
    "if 'BINDER_SERVICE_HOST' in os.environ:  # ONLINE JUPYTER ON BINDER\n",
    "    from pyvirtualdisplay import Display\n",
    "    display = Display(visible=0, size=(600, 400))\n",
    "    display.start()  # necessary for pyvista interactive plots\n",
    "    notebook = True\n",
    "    \n",
    "else:  # LOCAL JUPYTER NOTEBOOK\n",
    "    notebook = False  # when running locally, actually open pyvista window"
   ]
  },
  {
   "cell_type": "markdown",
   "metadata": {},
   "source": [
    "## Tutorial\n",
    "\n",
    "Although all of the required information for performing simulations on a multi-phase material are already present in the\n",
    "other tutorials, this tutorial is designed to help understand how to perform basic visualizations and simulations on a\n",
    "material with more than one solid phase.\n",
    "\n",
    "For the example here, we are using an artifically generated material with three phases: two random fibrous phases, and\n",
    "randomly populated spheres"
   ]
  },
  {
   "cell_type": "markdown",
   "metadata": {},
   "source": [
    "### Material Generation\n",
    "\n",
    "First, we will generate a material with 2 different types of fibers, and one type of sphere. \n",
    "\n",
    "The two fibers will be stored with material ID 1, and 2, and the sphere will be stored with material ID 3. \n",
    "\n",
    "Specify the output directory for the files to be generated:"
   ]
  },
  {
   "cell_type": "code",
   "execution_count": null,
   "metadata": {},
   "outputs": [],
   "source": [
    "export_path = \"out\"\n",
    "\n",
    "if not os.path.exists(export_path):\n",
    "    os.makedirs(export_path)"
   ]
  },
  {
   "cell_type": "code",
   "execution_count": null,
   "metadata": {
    "tags": []
   },
   "outputs": [],
   "source": [
    "size = (200, 200, 200)  # size of the domain, in voxels. \n",
    "radius = 8  # radius of the fibers to be generated, in voxels\n",
    "nFibers = None # Can specify either the number of fibers or the porosity\n",
    "porosity = 0.9  # porosity of the overall structure\n",
    "phi = 90 # A value between 0 and 90 that controls the amount that the fibers lie *out of* the XY plane,\n",
    "         # with 0 meaning all fibers lie in the XY plane, and 90 meaning that cylinders are randomly oriented out of the\n",
    "         # plane by as much as +/- 90 degrees.\n",
    "theta = 90 # A value between 0 and 90 that controls the amount of rotation *in the* XY plane,\n",
    "           # with 0 meaning all fibers point in the X-direction, and 90 meaning they are randomly rotated about the\n",
    "           # Z axis by as much as +/- 90 degrees.\n",
    "length = 200 # Length of the fibers to be generated\n",
    "\n",
    "ws_fibers1 = puma.generate_random_fibers(size, radius, nFibers, porosity, phi, theta, length)\n",
    "ws_fibers1.binarize((1))  # turn all the fibers into ID=1\n",
    "\n",
    "radius = 5  # creating smaller fibers for material #2\n",
    "length = 50\n",
    "\n",
    "ws_fibers2 = puma.generate_random_fibers(size, radius, nFibers, porosity, phi, theta, length)\n",
    "ws_fibers2.set_material_id((1, ws_fibers2.max()), 2)  # turn all the fibers into ID=2\n",
    "\n",
    "# combining fibers #1 and fibers #2 into a single domain, and setting the overlap to default to fibers #1\n",
    "ws_fibers1.matrix = ws_fibers1.matrix + ws_fibers2.matrix\n",
    "ws_fibers1.set_material_id((3, 3), 1) # setting the overlap, which would be 3, equal to 1\n",
    "\n",
    "\n",
    "# Generating the spheres\n",
    "diameter = 20  # diameter of the spheres to be generated, in voxels\n",
    "porosity = 0.8  # porosity of the overall structure\n",
    "allow_intersections = True # flag on whether to allow intersections between spheres. \n",
    "# Note: If allow_intersections is set to false, it will be significantly slower to generate,\n",
    "#.      and will usually require a fairly high porosity value to be generated\n",
    "\n",
    "ws_spheres = puma.generate_random_spheres(size, diameter, porosity, allow_intersections, segmented=False)\n",
    "ws_spheres.set_material_id((0, 127), 0)\n",
    "ws_spheres.set_material_id((128, 255), 3)\n",
    "\n",
    "# combining all three materials, with overlap defaulting to the sphere material\n",
    "ws_fibers1.matrix = ws_fibers1.matrix + ws_spheres.matrix\n",
    "ws_fibers1.set_material_id((4, 5), 3) # setting the overlap, which would be either 4 or 5, equal to 3\n",
    "\n",
    "puma.export_3Dtiff(os.path.join(export_path, \"multiphase.tif\"), ws_fibers1)\n",
    "\n",
    "ws_multiphase = ws_fibers1"
   ]
  },
  {
   "cell_type": "markdown",
   "metadata": {
    "tags": []
   },
   "source": [
    "### Material Visualization\n",
    "\n",
    "Now we will plot a slice of the material and visualize each of the three phases:"
   ]
  },
  {
   "cell_type": "code",
   "execution_count": null,
   "metadata": {},
   "outputs": [],
   "source": [
    "slices = puma.plot_slices(ws_multiphase, index=100)"
   ]
  },
  {
   "cell_type": "code",
   "execution_count": null,
   "metadata": {},
   "outputs": [],
   "source": [
    "puma.render_contour(ws_multiphase, cutoff=(1, 1), notebook=notebook)"
   ]
  },
  {
   "cell_type": "code",
   "execution_count": null,
   "metadata": {},
   "outputs": [],
   "source": [
    "puma.render_contour(ws_multiphase, cutoff=(2, 2), notebook=notebook)"
   ]
  },
  {
   "cell_type": "code",
   "execution_count": null,
   "metadata": {},
   "outputs": [],
   "source": [
    "puma.render_contour(ws_multiphase, cutoff=(3, 3), notebook=notebook)"
   ]
  },
  {
   "cell_type": "markdown",
   "metadata": {},
   "source": [
    "We can also visualize the three-phase material using either the volume_render for showing a voxel representation or the\n",
    "puma.render_contour_multiphase function for a smooth triangulated surface representation:"
   ]
  },
  {
   "cell_type": "code",
   "execution_count": null,
   "metadata": {},
   "outputs": [],
   "source": [
    "puma.render_volume(ws_multiphase, cutoff=(1, 3), solid_color=None, notebook=notebook, cmap='gray')"
   ]
  },
  {
   "cell_type": "code",
   "execution_count": null,
   "metadata": {},
   "outputs": [],
   "source": [
    "cutoffs = [(1, 1)]  # material phase 1\n",
    "cutoffs.append((2, 2)) # material phase 2\n",
    "cutoffs.append((3, 3)) # material phase 3\n",
    "\n",
    "# if solid_colors is not provided, the color of the phases is randomized\n",
    "puma.render_contour_multiphase(ws_multiphase, cutoffs, notebook=notebook, \n",
    "                               solid_colors=((0., 0., 0.), (0.5, 0.5, 0.5), (1., 1., 1.)))"
   ]
  },
  {
   "cell_type": "markdown",
   "metadata": {},
   "source": [
    "### Volume Fractions\n",
    "\n",
    "To calculate the volume fractions of each material phase, we will use the puma.compute_volume_fraction function and\n",
    "specify the grayscale range of each material:"
   ]
  },
  {
   "cell_type": "code",
   "execution_count": null,
   "metadata": {},
   "outputs": [],
   "source": [
    "vf_void = puma.compute_volume_fraction(ws_multiphase, (0,0))\n",
    "vf_phase1 = puma.compute_volume_fraction(ws_multiphase, (1,1))\n",
    "vf_phase2 = puma.compute_volume_fraction(ws_multiphase, (2,2))\n",
    "vf_phase3 = puma.compute_volume_fraction(ws_multiphase, (3,3))\n",
    "vf_solid = puma.compute_volume_fraction(ws_multiphase, (1,3))\n",
    "\n",
    "print(\"Volume Fraction of Void (Porosity):\", vf_void)\n",
    "print(\"Volume Fraction of Phase 1:\", vf_phase1)\n",
    "print(\"Volume Fraction of Phase 2:\", vf_phase2)\n",
    "print(\"Volume Fraction of Phase 3:\", vf_phase3)\n",
    "print(\"Volume Fraction of All Three Phases:\", vf_solid)"
   ]
  },
  {
   "cell_type": "markdown",
   "metadata": {},
   "source": [
    "### Surface Area\n",
    "\n",
    "To calculate the total surface area of the entire material phase, we can use the puma.compute_surface_area function with\n",
    "the material cutoff of (1,3) which includes all 3 material phases"
   ]
  },
  {
   "cell_type": "code",
   "execution_count": null,
   "metadata": {},
   "outputs": [],
   "source": [
    "area, specific_area = puma.compute_surface_area(ws_multiphase, (1, 3))\n",
    "print(\"Areas:\", area, specific_area)"
   ]
  },
  {
   "cell_type": "markdown",
   "metadata": {},
   "source": [
    "Computing the surface area of each individual phase is a little bit more tricky. To demonstrate, refer to the simple 2D\n",
    "schematic below of a 2-phase material.\n",
    "\n",
    "![image info](https://github.com/nasa/puma/raw/main/tutorial/pictures/multiphase.png)\n",
    "\n",
    "The materials are each labeled, 1, and 2, and the edge lengths are labeled a, b, and c. The total surface area of both\n",
    "materials is defined as A<sub>total</sub> = a + b. Assuming that your materials are stored with grayscale values 1 and 2,\n",
    "this total surface area is calculated as before in the 3-material example:\n",
    "\n",
    "    puma.compute_surface_area(ws_multiphase, (1,2))\n",
    "\n",
    "However, if you want to know the surface area of an individual phase, there are two options. You can compute the total\n",
    "surface area of the individual phase, including the surface area contact with other material phases, or you can compute\n",
    "only the exposed surface area to the void phase. The latter would be the relevant quantity when computing, for example,\n",
    "the effective reactive surface area for chemical reactions. In the first case, the surface area can be calculated as\n",
    "\n",
    "Area = A<sub>1</sub> = a + c = puma.compute_surface_area(ws_multiphase, (1,2))\n",
    "\n",
    "Area = 0.5 ( A<sub>1</sub> + A<sub>1-2</sub> - A<sub>2</sub> ) = 0.5 * (a + b + a + c - b - c) = a\n",
    "\n",
    "which, written in puma commands, becomes:\n",
    "\n",
    "    Area = puma.compute_surface_area(ws_multiphase, (1,1)) + puma.compute_surface_area(ws_multiphase, (1,2)) - puma.compute_surface_area(ws_multiphase, (2,2))\n",
    "\n",
    "For our 3-phase material, it is quite similar:\n",
    "\n",
    "To compute the surface area of material 1 exposed to the void, \n",
    "\n",
    "Area = 0.5 ( A<sub>1</sub> + A<sub>1-2-3</sub> - A<sub>2-3</sub> ) = 0.5 * (a + d + f + a + b + c - d - b - c - f) = a\n",
    "\n",
    "    "
   ]
  },
  {
   "cell_type": "markdown",
   "metadata": {},
   "source": [
    "Below, we compute the exposed to void surface area of each of the three phases: note that computing the surface area of\n",
    "the union between 1 and 3 requires extra steps, since using the surface area calculation on the domain with cutoffs (1,3)\n",
    "would include phase 2. Instead we copy the domain, set material 3 to an ID of 1, and then compute the surface area of\n",
    "material 1, which now includes material 3"
   ]
  },
  {
   "cell_type": "code",
   "execution_count": null,
   "metadata": {},
   "outputs": [],
   "source": [
    "# Raw and specific surface area calculations\n",
    "Area_1, SSA_1 = puma.compute_surface_area(ws_multiphase, (1,1))  # a + d + f\n",
    "Area_2, SSA_2 = puma.compute_surface_area(ws_multiphase, (2,2))  # d + b + e\n",
    "Area_3, SSA_3 = puma.compute_surface_area(ws_multiphase, (3,3))  # f + e + c\n",
    "\n",
    "Area_12, SSA_12 = puma.compute_surface_area(ws_multiphase, (1,2))  # a + b + e + f\n",
    "Area_23, SSA_23 = puma.compute_surface_area(ws_multiphase, (2,3))  # d + b + c + f\n",
    "Area_123, SSA_123 = puma.compute_surface_area(ws_multiphase, (1,3)) # a \n",
    "\n",
    "ws_copy = ws_multiphase.copy()\n",
    "ws_copy.set_material_id((3,3),1)  # setting all of phase 3 to be equal to ID 1\n",
    "Area_13, SSA_13 = puma.compute_surface_area(ws_copy, (1,1))  # a + d + e + c\n",
    "\n",
    "# Now to compute the exposed surface areas for each phase: \n",
    "Exposed_Area_1 = 0.5 * (Area_1 + Area_123 - Area_23)\n",
    "Exposed_SSA_1 = 0.5 * (SSA_1 + SSA_123 - SSA_23)\n",
    "\n",
    "Exposed_Area_2 = 0.5 * (Area_2 + Area_123 - Area_13)\n",
    "Exposed_SSA_2 = 0.5 * (SSA_2 + SSA_123 - SSA_13)\n",
    "\n",
    "Exposed_Area_3 = 0.5 * (Area_3 + Area_123 - Area_12)\n",
    "Exposed_SSA_3 = 0.5 * (SSA_3 + SSA_123 - SSA_12)\n",
    "\n",
    "print(\"Exposed Areas for Phase 1:\", Exposed_Area_1, Exposed_SSA_1)\n",
    "print(\"Exposed Areas for Phase 2:\", Exposed_Area_2, Exposed_SSA_2)\n",
    "print(\"Exposed Areas for Phase 3:\", Exposed_Area_3, Exposed_SSA_3)"
   ]
  },
  {
   "cell_type": "markdown",
   "metadata": {},
   "source": [
    "As a check, we will test to make sure that the total exposed areas of each phase sum up to the total surface area of\n",
    "all of the material phases:"
   ]
  },
  {
   "cell_type": "code",
   "execution_count": null,
   "metadata": {},
   "outputs": [],
   "source": [
    "print(\"Sum of Exposed Phase Area:\", Exposed_SSA_1 + Exposed_SSA_2 + Exposed_SSA_3)\n",
    "print(\"Total Area:\", SSA_123)\n",
    "print(\"Percent Error: \", np.abs((Exposed_SSA_1 + Exposed_SSA_2 + Exposed_SSA_3 - SSA_123)) / SSA_123 * 100.)"
   ]
  },
  {
   "cell_type": "markdown",
   "metadata": {},
   "source": [
    "We can see that the two values are very close but not exactly the same. This slight difference is simply numerical error\n",
    "from the triangulations and accounts for a small error in this case, which should not be too significant."
   ]
  },
  {
   "cell_type": "markdown",
   "metadata": {},
   "source": [
    "### Tortuosity Factors\n",
    "\n",
    "Computing the tortuosity factors for a multi-phase material is not different than for a single phase material, since\n",
    "it is only the void phase that is specified for the calculation.\n",
    "\n",
    "To speed up the simulation, we will take a 100<sup>3</sup> subsection of the domain in order to perform the tortuosity\n",
    "simulation. Please note that this domain size is almost certainly not a representative volume, and a far larger size\n",
    "should be used when performing production simulations"
   ]
  },
  {
   "cell_type": "code",
   "execution_count": null,
   "metadata": {},
   "outputs": [],
   "source": [
    "# The tortuosity calculation needs to be run for each of the three simulation directions. \n",
    "# For each simulation, a concentration gradient is forced in the simulation direction, and converged to steady state\n",
    "\n",
    "# Simulation inputs: \n",
    "#.  1. workspace - the computational domain for the simulation, containing your material microstructure\n",
    "#.  2. cutoff - the grayscale values for the void phase. [0,0] for this sample\n",
    "#.  3. direction - the simulation direction, 'x', 'y', or 'z'\n",
    "#.  4. side_bc - boundary condition in the non-simulation direction. Can be 'p' - periodic, 's' - symmetric, 'd' - dirichlet\n",
    "#.  5. tolerance - accuracy of the numerical solver, defaults to 1e-4. \n",
    "#.  6. maxiter - maximum number of iterations, defaults to 10,000\n",
    "#.  7. solver_type - the iterative solver used. Can be 'bicgstab', 'cg', 'gmres', or 'direct'. Defaults to 'bicgstab'\n",
    "\n",
    "ws_cropped = ws_multiphase.copy()  # creating a copy of the workspace to crop\n",
    "ws_cropped.matrix = ws_cropped.matrix[50:150,50:150,50:150]  # cropping the sample to 100^3\n",
    "\n",
    "n_eff_x, Deff_x, poro, C_x = puma.compute_continuum_tortuosity(ws_cropped, (0,0), 'x', side_bc='s', tolerance=1e-4, solver_type='cg')\n",
    "n_eff_y, Deff_y, poro, C_y = puma.compute_continuum_tortuosity(ws_cropped, (0,0), 'y', side_bc='s', tolerance=1e-4, solver_type='cg')\n",
    "n_eff_z, Deff_z, poro, C_z = puma.compute_continuum_tortuosity(ws_cropped, (0,0), 'z', side_bc='s', tolerance=1e-4, solver_type='cg')\n",
    "\n",
    "print(\"\\nEffective Tortuosity Factors\")\n",
    "print(\"[\", n_eff_x[0], n_eff_y[0], n_eff_z[0], \"]\")\n",
    "print(\"[\", n_eff_x[1], n_eff_y[1], n_eff_z[1], \"]\")\n",
    "print(\"[\", n_eff_x[2], n_eff_y[2], n_eff_z[2], \"]\")\n",
    "\n",
    "print(\"Porosity of the material:\", poro)"
   ]
  },
  {
   "cell_type": "code",
   "execution_count": null,
   "metadata": {},
   "outputs": [],
   "source": [
    "# Visualizing the Concentration field for the simulation along the x-axis:  \n",
    "puma.render_volume(C_x, solid_color=None, notebook=notebook, cmap='jet')"
   ]
  },
  {
   "cell_type": "markdown",
   "metadata": {},
   "source": [
    "### Effective Thermal Conductivity\n",
    "\n",
    "Computing the effective thermal conductivity is also very similar to in a single-phase case. The only difference is that\n",
    "rather than two materials being specified (void and solid) in the conductivity map, an entry must be made for each\n",
    "material phase, and the corresponding constituent thermal conductivity must be set."
   ]
  },
  {
   "cell_type": "code",
   "execution_count": null,
   "metadata": {},
   "outputs": [],
   "source": [
    "# Generating a conductivity map. This stores the conductivity values for each phase of the material\n",
    "cond_map = puma.IsotropicConductivityMap()\n",
    "# First, we set the conductivity of the void phase to be 0.0257 (air at STP)\n",
    "cond_map.add_material((0, 0), 0.0257)\n",
    "# Next we set the conductivity of each of the three material phases\n",
    "cond_map.add_material((1, 1), 10)\n",
    "cond_map.add_material((2, 2), 20)\n",
    "cond_map.add_material((3, 3), 100)\n",
    "\n",
    "# The thermal conductivity calculation needs to be run for each of the three simulation directions. \n",
    "# For each simulation, a temperature gradient is forced in the simulation direction, and converged to steady state\n",
    "\n",
    "# Simulation inputs: \n",
    "#.  1. workspace - the computational domain for the simulation, containing your material microstructure\n",
    "#.  2. cond_map - the conductivity values for each material phase\n",
    "#.  3. direction - the simulation direction, 'x', 'y', or 'z'\n",
    "#.  4. side_bc - boundary condition in the non-simulation direction. Can be 'p' - periodic, 's' - symmetric, 'd' - dirichlet\n",
    "#.  5. tolerance - accuracy of the numerical solver, defaults to 1e-4. \n",
    "#.  6. maxiter - maximum number of iterations, defaults to 10,000\n",
    "#.  7. solver_type - the iterative solver used. Can be 'bicgstab', 'cg', 'gmres', or 'direct'. Defaults to 'bicgstab'\n",
    "\n",
    "k_eff_x, T_x, q_x = puma.compute_thermal_conductivity(ws_cropped,cond_map, 'x', 's', tolerance=1e-4, solver_type='bicgstab')\n",
    "k_eff_y, T_y, q_y = puma.compute_thermal_conductivity(ws_cropped,cond_map, 'y', 's', tolerance=1e-4, solver_type='bicgstab')\n",
    "k_eff_z, T_z, q_z = puma.compute_thermal_conductivity(ws_cropped,cond_map, 'z', 's', tolerance=1e-4, solver_type='bicgstab')\n",
    "\n",
    "print(\"\\nEffective Thermal Conductivity\")\n",
    "print(\"[\", k_eff_x[0], k_eff_y[0], k_eff_z[0], \"]\")\n",
    "print(\"[\", k_eff_x[1], k_eff_y[1], k_eff_z[1], \"]\")\n",
    "print(\"[\", k_eff_x[2], k_eff_y[2], k_eff_z[2], \"]\")"
   ]
  },
  {
   "cell_type": "code",
   "execution_count": null,
   "metadata": {},
   "outputs": [],
   "source": [
    "# Visualizing the temperature field for the simulation along the y-axis: \n",
    "puma.render_volume(T_y, solid_color=None, notebook=notebook, cmap='jet')"
   ]
  }
 ],
 "metadata": {
  "kernelspec": {
   "display_name": "Python 3 (ipykernel)",
   "language": "python",
   "name": "python3"
  },
  "language_info": {
   "codemirror_mode": {
    "name": "ipython",
    "version": 3
   },
   "file_extension": ".py",
   "mimetype": "text/x-python",
   "name": "python",
   "nbconvert_exporter": "python",
   "pygments_lexer": "ipython3",
   "version": "3.10.8"
  },
  "toc-autonumbering": true
 },
 "nbformat": 4,
 "nbformat_minor": 4
}
